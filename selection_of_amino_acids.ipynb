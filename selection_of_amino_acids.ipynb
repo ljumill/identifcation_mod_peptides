{
 "cells": [
  {
   "cell_type": "markdown",
   "metadata": {},
   "source": [
    "## Unique Amino Acid Combinations"
   ]
  },
  {
   "cell_type": "code",
   "execution_count": 7,
   "metadata": {},
   "outputs": [],
   "source": [
    "import itertools as it\n",
    "import numpy as np\n",
    "import pandas as pd\n",
    "\n",
    "array1 = np.array([113, 113, 147, 101])\n",
    "array3 = np.array([114, 115, 129, 128])\n",
    "array4 = np.array([57, 97, 87, 163])\n",
    "\n",
    "combinations = it.product(array1,array3,array4)\n",
    "results = np.array([])\n",
    "\n",
    "for combination in combinations:\n",
    "    unique_combo = (set(combination))\n",
    "    results = np.append(results, unique_combo)\n",
    "\n",
    "results = np.reshape(results, (64, 1))\n",
    "results = results.astype(str)\n"
   ]
  },
  {
   "cell_type": "code",
   "execution_count": 8,
   "metadata": {},
   "outputs": [
    {
     "name": "stdout",
     "output_type": "stream",
     "text": [
      "[['{113, 114, 57}']\n",
      " ['{113, 114, 97}']\n",
      " ['{113, 114, 87}']\n",
      " ['{113, 114, 163}']\n",
      " ['{113, 115, 57}']\n",
      " ['{113, 115, 97}']\n",
      " ['{113, 115, 87}']\n",
      " ['{113, 115, 163}']\n",
      " ['{113, 129, 57}']\n",
      " ['{113, 129, 97}']\n",
      " ['{113, 129, 87}']\n",
      " ['{113, 129, 163}']\n",
      " ['{128, 113, 57}']\n",
      " ['{128, 113, 97}']\n",
      " ['{128, 113, 87}']\n",
      " ['{128, 113, 163}']\n",
      " ['{113, 114, 57}']\n",
      " ['{113, 114, 97}']\n",
      " ['{113, 114, 87}']\n",
      " ['{113, 114, 163}']\n",
      " ['{113, 115, 57}']\n",
      " ['{113, 115, 97}']\n",
      " ['{113, 115, 87}']\n",
      " ['{113, 115, 163}']\n",
      " ['{113, 129, 57}']\n",
      " ['{113, 129, 97}']\n",
      " ['{113, 129, 87}']\n",
      " ['{113, 129, 163}']\n",
      " ['{128, 113, 57}']\n",
      " ['{128, 113, 97}']\n",
      " ['{128, 113, 87}']\n",
      " ['{128, 113, 163}']\n",
      " ['{57, 114, 147}']\n",
      " ['{97, 114, 147}']\n",
      " ['{114, 147, 87}']\n",
      " ['{114, 147, 163}']\n",
      " ['{115, 57, 147}']\n",
      " ['{115, 97, 147}']\n",
      " ['{115, 147, 87}']\n",
      " ['{115, 147, 163}']\n",
      " ['{129, 147, 57}']\n",
      " ['{129, 147, 97}']\n",
      " ['{129, 147, 87}']\n",
      " ['{129, 147, 163}']\n",
      " ['{128, 57, 147}']\n",
      " ['{128, 97, 147}']\n",
      " ['{128, 147, 87}']\n",
      " ['{128, 147, 163}']\n",
      " ['{57, 114, 101}']\n",
      " ['{97, 114, 101}']\n",
      " ['{114, 101, 87}']\n",
      " ['{114, 163, 101}']\n",
      " ['{57, 115, 101}']\n",
      " ['{97, 115, 101}']\n",
      " ['{115, 101, 87}']\n",
      " ['{163, 115, 101}']\n",
      " ['{129, 101, 57}']\n",
      " ['{129, 101, 97}']\n",
      " ['{129, 101, 87}']\n",
      " ['{129, 163, 101}']\n",
      " ['{128, 57, 101}']\n",
      " ['{128, 97, 101}']\n",
      " ['{128, 101, 87}']\n",
      " ['{128, 163, 101}']]\n"
     ]
    }
   ],
   "source": [
    "print(results)"
   ]
  }
 ],
 "metadata": {
  "kernelspec": {
   "display_name": "Python 3",
   "language": "python",
   "name": "python3"
  },
  "language_info": {
   "codemirror_mode": {
    "name": "ipython",
    "version": 3
   },
   "file_extension": ".py",
   "mimetype": "text/x-python",
   "name": "python",
   "nbconvert_exporter": "python",
   "pygments_lexer": "ipython3",
   "version": "3.7.6"
  },
  "toc": {
   "base_numbering": 1,
   "nav_menu": {},
   "number_sections": true,
   "sideBar": true,
   "skip_h1_title": false,
   "title_cell": "Table of Contents",
   "title_sidebar": "Contents",
   "toc_cell": false,
   "toc_position": {},
   "toc_section_display": true,
   "toc_window_display": false
  },
  "varInspector": {
   "cols": {
    "lenName": 16,
    "lenType": 16,
    "lenVar": 40
   },
   "kernels_config": {
    "python": {
     "delete_cmd_postfix": "",
     "delete_cmd_prefix": "del ",
     "library": "var_list.py",
     "varRefreshCmd": "print(var_dic_list())"
    },
    "r": {
     "delete_cmd_postfix": ") ",
     "delete_cmd_prefix": "rm(",
     "library": "var_list.r",
     "varRefreshCmd": "cat(var_dic_list()) "
    }
   },
   "types_to_exclude": [
    "module",
    "function",
    "builtin_function_or_method",
    "instance",
    "_Feature"
   ],
   "window_display": false
  }
 },
 "nbformat": 4,
 "nbformat_minor": 4
}
