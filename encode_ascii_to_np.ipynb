{
 "cells": [
  {
   "cell_type": "markdown",
   "metadata": {},
   "source": [
    "# Second Attempt - Encoding Ascii to Numpy \n",
    "\n",
    "This attempt looked at implementing the .digitize function and utilising bins to encompass the spectral data into specified mass ranges with single files. "
   ]
  },
  {
   "cell_type": "code",
   "execution_count": 52,
   "metadata": {},
   "outputs": [],
   "source": [
    "#import necessary modules\n",
    "import numpy as np \n",
    "import matplotlib.pyplot as plt\n",
    "import os\n",
    "import pandas as pd\n",
    "from numpy import asarray, save, load"
   ]
  },
  {
   "cell_type": "markdown",
   "metadata": {},
   "source": [
    "Initially, a manual approach was taken to data process just a single ascii file and digitize it into our desired number of bins. "
   ]
  },
  {
   "cell_type": "code",
   "execution_count": 20,
   "metadata": {},
   "outputs": [
    {
     "data": {
      "image/png": "[encoded data removed]",
      "text/plain": [
       "<Figure size 432x288 with 1 Axes>"
      ]
     },
     "metadata": {
      "needs_background": "light"
     },
     "output_type": "display_data"
    }
   ],
   "source": [
    "#define the path where files are located\n",
    "path = os.path.expanduser(r\"~/Documents/python/identification_modified_proteins/practice_conversion/practice_1.ascii\")\n",
    "\n",
    "#create new numpy array and load ascii file into it\n",
    "arr = np.loadtxt(path, delimiter=',', dtype=str)\n",
    "\n",
    "#convert loaded strings into floats, skipping any uneeded data \n",
    "ms_arr = np.array(list(np.core.defchararray.split(arr[8:])), dtype=float)\n",
    "\n",
    "#plot data to validate spectrum appearance \n",
    "plt.plot(ms_arr[:,0],ms_arr[:,1])\n",
    "plt.show()\n",
    "\n",
    "#create bin array, number of bins = spaces + 1 \n",
    "bins = np.linspace(44, 1056, num=101300) \n",
    "\n",
    "#converts 2d array into 1d \n",
    "mass_arr = np.array(ms_arr[:,0])\n",
    "\n",
    "#digitize only works with 1d arrays\n",
    "bin_arr = np.digitize(mass_arr, bins)\n",
    "\n",
    "#stack new digitized array with our original mass spec data. \n",
    "stack_np = np.column_stack((ms_arr, bin_arr)) \n",
    "\n",
    "#create a new dataframe with titled columns using our stack_np array\n",
    "df = pd.DataFrame(stack_np, columns = ['Mass', 'Intensity', 'Bins']) #mass range = bins of 0.01 increments\n",
    "\n",
    "#sums other categories within the same bin \n",
    "bins_df = df.groupby('Bins').sum() \n",
    "\n",
    "#create new data frame with just the numpy array of bins created earlier\n",
    "master_df = pd.DataFrame(bins)\n",
    "\n",
    "#merge the bins df to our dataframe that has the number of assigned bins\n",
    "digi_spectrum=master_df.merge(bins_df, how='left', left_index=True, right_index=True)\n",
    "\n",
    "#remove mass as not needed \n",
    "digi_spectrum.drop('Mass',axis=1,inplace=True)\n",
    "\n",
    "#replace NaN values where no intensity is detected with 0\n",
    "digi_spectrum.replace(np.NaN, 0, inplace=True)\n",
    "\n",
    "#convert back to a numpy array\n",
    "mass_rng_df = digi_spectrum['Intensity'].to_numpy()"
   ]
  },
  {
   "cell_type": "code",
   "execution_count": null,
   "metadata": {},
   "outputs": [],
   "source": [
    "#saving dataframes into numpy files, GYQKNK 734 2+ used as example file\n",
    "save('GYQKNK 734 2+', mass_rng_df)\n",
    "\n",
    "#load numpy data for correct save verification\n",
    "test_load = load('GYQKNK 734 2+.npy')\n",
    "print(test_load)\n",
    "print(test_load.shape)\n",
    "type(test_load)"
   ]
  },
  {
   "cell_type": "code",
   "execution_count": 19,
   "metadata": {},
   "outputs": [],
   "source": [
    "#files combined \n",
    "mod_files = [\"GYPK#AK 801.npy\", \"GYIK#DK 861.npy\",'GSQK#FK 834.npy', 'GSPK#AK 727.npy', 'GSIK#NK 786.npy', 'GSIK#FK 819.npy', 'GSHK#FK 843.npy', 'GGQK#NK 771.npy', 'GGQK#FK 804.npy', 'GGPK#FK 773.npy', 'GGPK#AK 697.npy', 'GGIK#NK 756.npy', 'GGIK#AK 713.npy', 'GEQK#FK 876.npy', 'GEPK#NK 812.npy', 'GEIK#NK 828.npy', 'GEIK#FK 861.npy']\n",
    "collate_mod = np.array([np.load(filename) for filename in mod_files])\n",
    "stacked_mod = np.vstack(collate_mod)\n",
    "\n",
    "#get shape to build modified feature\n",
    "print(stacked_mod.shape)\n",
    "\n",
    "#create modified feature and column stack to combined modified dataset, 1 meaning modified \n",
    "mod_feature = np.repeat(1, [17], axis=0) \n",
    "\n",
    "#modified feature column stacked onto data set\n",
    "all_mod_data = np.column_stack((stacked_mod, mod_feature))\n",
    "\n",
    "#save data file\n",
    "save('mod_train_data', all_mod_data)"
   ]
  },
  {
   "cell_type": "code",
   "execution_count": 60,
   "metadata": {},
   "outputs": [
    {
     "name": "stdout",
     "output_type": "stream",
     "text": [
      "(24, 101300)\n"
     ]
    }
   ],
   "source": [
    "#files combined \n",
    "no_mod_files = ['GYPKFK 736.npy', 'GSQKFK 693.npy', 'GSQKDK 661.npy', 'GSPKNK 629.npy', 'GSPKFK 662.npy', 'GSPKAK 586.npy', 'GSIKFK 678.npy', 'GSIKDK 646.npy', 'GSIKAK 602.npy', 'GSHKAK 626.npy', 'GGQKNK 630.npy', 'GGQKDK 631.npy', 'GGPKNK 599.npy', 'GGPKFK 632.npy', 'GGPKAK 556.npy', 'GGIKFK 648.npy', 'GGIKDK 616.npy', 'GGIKAK 572.npy', 'GGHKAK 596.npy', 'GEQKNK 702.npy', 'GEQKAK 659.npy', 'GEPKAK 628.npy', 'GEIKNK 687.npy', 'GEIKAK 644.npy']\n",
    "collate_no_mod = np.array([np.load(filename) for filename in no_mod_files])\n",
    "stacked_no_mod = np.vstack(collate_no_mod)\n",
    "\n",
    "#get shape to build unmodified feature\n",
    "print(stacked_no_mod.shape)\n",
    "\n",
    "#create unmodified feature and column stack to combined unmodified dataset.\n",
    "no_mod_feature = np.repeat(0, [24], axis=0)\n",
    "\n",
    "#unmodified feature column stacked onto data set\n",
    "all_no_mod_data = np.column_stack((stacked_no_mod, no_mod_feature))\n",
    "\n",
    "#save unmodified data as one file\n",
    "save('no_mod_train_data', all_no_mod_data)"
   ]
  },
  {
   "cell_type": "code",
   "execution_count": 66,
   "metadata": {},
   "outputs": [
    {
     "name": "stdout",
     "output_type": "stream",
     "text": [
      "[[ 0.        0.        0.       ...  0.        0.        0.      ]\n",
      " [ 0.        0.        0.       ...  0.        0.        0.      ]\n",
      " [ 0.        0.        0.       ...  0.        0.        0.      ]\n",
      " ...\n",
      " [ 0.        0.        0.       ...  0.        0.        1.      ]\n",
      " [ 0.        0.       32.666668 ...  0.        0.        1.      ]\n",
      " [ 0.        0.       32.666668 ...  0.        0.        1.      ]]\n"
     ]
    },
    {
     "data": {
      "text/plain": [
       "(41, 101301)"
      ]
     },
     "execution_count": 66,
     "metadata": {},
     "output_type": "execute_result"
    }
   ],
   "source": [
    "#combine both the modified and unmodified training data that we just created into one file\n",
    "stack_all_data = np.vstack((all_no_mod_data, all_mod_data)\n",
    "save('all_train_data', stack_all_data)\n",
    "print(stack_all_data)                           \n",
    "stack_all_data.shape"
   ]
  },
  {
   "cell_type": "markdown",
   "metadata": {},
   "source": [
    "Initially, once the data was processed, a problem was encountered when reading the data into the model, however this was due to a lack of understanding when it came to the x and y axis of the data, thinking that mutiple x-axis dimensions were not possible but in fact are allowed when implementing them into a classifier. \n",
    "\n",
    "Thus, attempts below were made to convert data into a 41 by 2 dimension to allow for x and y axis. While the conversion was successful, the classifier failed to learn onto this data. This was fixed by assigning one column as the y axis and the rest as the x-axis in our dataset."
   ]
  },
  {
   "cell_type": "code",
   "execution_count": 76,
   "metadata": {},
   "outputs": [
    {
     "data": {
      "text/plain": [
       "(17, 2)"
      ]
     },
     "execution_count": 76,
     "metadata": {},
     "output_type": "execute_result"
    }
   ],
   "source": [
    "#failed exploration into dimension conversion \n",
    "load_data = load('train_mod_np.npy')\n",
    "df = pd.DataFrame(load_data)\n",
    "df['Intensities'] = df[df.columns[1:]].apply(lambda x: ','.join(x.astype(str)),axis=1)\n",
    "mod_np = df['Intensities'].to_numpy()\n",
    "mod_np.shape\n",
    "mod_feature = np.repeat(1, [17], axis=0)\n",
    "mod_data_2d = np.column_stack((mod_np, mod_feature))\n",
    "save('train_no_mod_2d_np', mod_data_2d)\n",
    "mod_data_2d.shape"
   ]
  },
  {
   "cell_type": "code",
   "execution_count": 77,
   "metadata": {},
   "outputs": [
    {
     "data": {
      "text/plain": [
       "(41, 2)"
      ]
     },
     "execution_count": 77,
     "metadata": {},
     "output_type": "execute_result"
    }
   ],
   "source": [
    "#failed exploration into dimension conversion \n",
    "stack_all_np = np.vstack((no_mod_data_2d, mod_data_2d))\n",
    "stack_all_np.shape\n",
    "save('all_train_np', stack_all_np)\n",
    "stack_all_np.shape"
   ]
  },
  {
   "cell_type": "markdown",
   "metadata": {},
   "source": [
    "# Third Attempt - Automate filetype conversion and processing \n",
    "\n",
    "Will enable user to quickly change bin number depending on the mass range of the mass spectrum as well as allow for exploration into how bin size affects data. "
   ]
  },
  {
   "cell_type": "markdown",
   "metadata": {},
   "source": [
    "Attempts were made to use a file path variable to assign into our for loop, however, this was unsuccessful and a workaround to this was to change the current working directory into our desired file location with ascii files read to convert. "
   ]
  },
  {
   "cell_type": "markdown",
   "metadata": {},
   "source": [
    "## Initial attempt to change path\n",
    "Initial attempt to change path directory failed as it was not the current working directory, thus, this was initally done manually. However, drawbacks were that navigation through directories would be needed and also multiple inputs. Second attempt was more successful. "
   ]
  },
  {
   "cell_type": "code",
   "execution_count": 74,
   "metadata": {},
   "outputs": [],
   "source": [
    "#change the current working directory (cwd) to directory containing desired files\n",
    "#to navigate into folder use 'foldername' in cwd or go '../' to move up from cwd\n",
    "os.chdir('../')"
   ]
  },
  {
   "cell_type": "code",
   "execution_count": 75,
   "metadata": {},
   "outputs": [
    {
     "name": "stdout",
     "output_type": "stream",
     "text": [
      "Files in '/Users/LeandroJumilla/Documents/python/identification_modified_proteins': ['mod_np_2+', '.train_no_mod_np.npy.icloud', '.DS_Store', 'mod_ascii', 'practice_data', 'train_mod_np', '.train_mod_np.npy.icloud', 'hold_out_test_no_mod', 'hold_out_test_mod', '.train_mod_2d_np.npy.icloud', '.no_mod_train_data.npy.icloud', 'scripts', '.mod_train_data.npy.icloud', 'no_mod_ascii', '.ipynb_checkpoints', 'train_no_mod_np', 'no_mod_np_2+', 'practice_conversion', '.train_no_mod_2d_np.npy.icloud', 'encode_ascii_to_np.ipynb']\n"
     ]
    }
   ],
   "source": [
    "#get the current working directory (cwd)\n",
    "cwd = os.getcwd() \n",
    "\n",
    "# Get all the files in that directory\n",
    "files = os.listdir(cwd)\n",
    "\n",
    "#check folder has desired ascii files\n",
    "print(\"Files in %r: %s\" % (cwd, files))"
   ]
  },
  {
   "cell_type": "markdown",
   "metadata": {},
   "source": [
    "## Second attempt to change directory path \n",
    "Second attempt was successful and improved the efficiency of code needing just one input from the user and remove the need for manual navgation. "
   ]
  },
  {
   "cell_type": "code",
   "execution_count": 103,
   "metadata": {},
   "outputs": [],
   "source": [
    "#insert the desired path containing ascii files in the ''. \n",
    "path = os.path.expanduser(r\"~/Documents/python/identification_modified_proteins/mod_ascii/\")\n",
    "\n",
    "#changes current working directory to the path given \n",
    "directory = os.chdir(path)\n"
   ]
  },
  {
   "cell_type": "markdown",
   "metadata": {},
   "source": [
    "## Automated ascii file processing and conversion"
   ]
  },
  {
   "cell_type": "code",
   "execution_count": 98,
   "metadata": {},
   "outputs": [
    {
     "name": "stdout",
     "output_type": "stream",
     "text": [
      "Conversion complete.\n",
      "Conversion complete.\n",
      "Conversion complete.\n",
      "Conversion complete.\n",
      "Conversion complete.\n",
      "Conversion complete.\n",
      "Conversion complete.\n",
      "Conversion complete.\n",
      "Conversion complete.\n",
      "Conversion complete.\n",
      "Conversion complete.\n",
      "Conversion complete.\n",
      "Conversion complete.\n",
      "Conversion complete.\n",
      "Conversion complete.\n",
      "Conversion complete.\n",
      "Conversion complete.\n",
      "Conversion complete.\n",
      "Conversion complete.\n",
      "Conversion complete.\n",
      "Conversion complete.\n",
      "Conversion complete.\n",
      "Conversion complete.\n",
      "Conversion complete.\n"
     ]
    }
   ],
   "source": [
    "# give the extension for the files you are looking for\n",
    "ascii_extension = '.ascii'\n",
    "\n",
    "#for loop used to convert all ascii data files into numpy arrays with the same number of specified bins\n",
    "for filename in os.listdir(directory):\n",
    "    if filename.endswith(ascii_extension):\n",
    "        #create new numpy array and load ascii file into it\n",
    "        arr = np.loadtxt(filename, delimiter=',', dtype=str)\n",
    "\n",
    "        #convert loaded strings into floats, skipping any uneeded data \n",
    "        ms_arr = np.array(list(np.core.defchararray.split(arr[8:])), dtype=float)\n",
    "        \n",
    "        #create the number of bins using num = spaces + 1, with mass range of 0.01 mass increments\n",
    "        bins = np.linspace(44, 1056, num=1013)\n",
    "\n",
    "        #converts 2d array into 1d \n",
    "        mass_arr = np.array(ms_arr[:,0])\n",
    "\n",
    "        #digitizes the mass column of mass spec array and bins by allocating a bin to each intensity and mass row\n",
    "        bin_arr = np.digitize(mass_arr, bins)\n",
    "\n",
    "        #combines new bins column to original mass spec array\n",
    "        stack_np = np.column_stack((ms_arr, bin_arr)) \n",
    "\n",
    "        #creates panda dataframe from numpy array\n",
    "        df = pd.DataFrame(stack_np, columns = ['Mass', 'Intensity', 'Bin']) \n",
    "\n",
    "        #sums intensites within the same bin\n",
    "        bins_df = df.groupby('Bin').sum() \n",
    "\n",
    "        #creates another dataframe with just the bin numbers\n",
    "        master_df = pd.DataFrame(bins)\n",
    "\n",
    "        #merge by fitting summed intensities in bins_df to the definite number of bins in master_df.\n",
    "        #ensures that all spectra have the same number of bins.\n",
    "        digi_spectrum = master_df.merge(bins_df, how='left', left_index=True, right_index=True) \n",
    "\n",
    "        #remove mass column as it is not needed\n",
    "        digi_spectrum.drop('Mass',axis=1,inplace=True)\n",
    "\n",
    "        #replace any NaN values that occur (no intensity is measured in a bin) as 0\n",
    "        digi_spectrum.replace(np.NaN, 0, inplace=True)\n",
    "\n",
    "        #convert panda df to numpy array\n",
    "        mass_rng_df = digi_spectrum['Intensity'].to_numpy()\n",
    "        \n",
    "        #saves file as numpy array\n",
    "        np.save('{}'.format(filename), mass_rng_df)\n",
    "    else:\n",
    "        print('Conversion complete.')"
   ]
  },
  {
   "cell_type": "markdown",
   "metadata": {},
   "source": [
    "Once ascii files have been read and the data contained has been formatted into a numpy arrays and saved, the next step is to combine the files and add the modified and unmodified features"
   ]
  },
  {
   "cell_type": "code",
   "execution_count": 111,
   "metadata": {},
   "outputs": [
    {
     "ename": "UnicodeDecodeError",
     "evalue": "'utf-8' codec can't decode byte 0x93 in position 0: invalid start byte",
     "output_type": "error",
     "traceback": [
      "\u001b[0;31m---------------------------------------------------------------------------\u001b[0m",
      "\u001b[0;31mUnicodeDecodeError\u001b[0m                        Traceback (most recent call last)",
      "\u001b[0;32m<ipython-input-111-1dd21c20fa0d>\u001b[0m in \u001b[0;36m<module>\u001b[0;34m\u001b[0m\n\u001b[1;32m      7\u001b[0m \u001b[0;34m\u001b[0m\u001b[0m\n\u001b[1;32m      8\u001b[0m         \u001b[0;31m#load files and assign to variable\u001b[0m\u001b[0;34m\u001b[0m\u001b[0;34m\u001b[0m\u001b[0;34m\u001b[0m\u001b[0m\n\u001b[0;32m----> 9\u001b[0;31m         \u001b[0mcollect_np\u001b[0m \u001b[0;34m=\u001b[0m \u001b[0mnp\u001b[0m\u001b[0;34m.\u001b[0m\u001b[0marray\u001b[0m\u001b[0;34m(\u001b[0m\u001b[0;34m[\u001b[0m\u001b[0mnp\u001b[0m\u001b[0;34m.\u001b[0m\u001b[0mloadtxt\u001b[0m\u001b[0;34m(\u001b[0m\u001b[0mfilename\u001b[0m\u001b[0;34m,\u001b[0m \u001b[0mdelimiter\u001b[0m\u001b[0;34m=\u001b[0m\u001b[0;34m','\u001b[0m\u001b[0;34m,\u001b[0m \u001b[0mdtype\u001b[0m\u001b[0;34m=\u001b[0m\u001b[0mstr\u001b[0m\u001b[0;34m)\u001b[0m\u001b[0;34m]\u001b[0m\u001b[0;34m)\u001b[0m\u001b[0;34m\u001b[0m\u001b[0;34m\u001b[0m\u001b[0m\n\u001b[0m\u001b[1;32m     10\u001b[0m \u001b[0;34m\u001b[0m\u001b[0m\n\u001b[1;32m     11\u001b[0m         \u001b[0;31m#stack binned spectrum arrays in sequence vertically (row wise)\u001b[0m\u001b[0;34m\u001b[0m\u001b[0;34m\u001b[0m\u001b[0;34m\u001b[0m\u001b[0m\n",
      "\u001b[0;32m~/opt/anaconda3/lib/python3.7/site-packages/numpy/lib/npyio.py\u001b[0m in \u001b[0;36mloadtxt\u001b[0;34m(fname, dtype, comments, delimiter, converters, skiprows, usecols, unpack, ndmin, encoding, max_rows)\u001b[0m\n\u001b[1;32m   1110\u001b[0m         \u001b[0;32mtry\u001b[0m\u001b[0;34m:\u001b[0m\u001b[0;34m\u001b[0m\u001b[0;34m\u001b[0m\u001b[0m\n\u001b[1;32m   1111\u001b[0m             \u001b[0;32mwhile\u001b[0m \u001b[0;32mnot\u001b[0m \u001b[0mfirst_vals\u001b[0m\u001b[0;34m:\u001b[0m\u001b[0;34m\u001b[0m\u001b[0;34m\u001b[0m\u001b[0m\n\u001b[0;32m-> 1112\u001b[0;31m                 \u001b[0mfirst_line\u001b[0m \u001b[0;34m=\u001b[0m \u001b[0mnext\u001b[0m\u001b[0;34m(\u001b[0m\u001b[0mfh\u001b[0m\u001b[0;34m)\u001b[0m\u001b[0;34m\u001b[0m\u001b[0;34m\u001b[0m\u001b[0m\n\u001b[0m\u001b[1;32m   1113\u001b[0m                 \u001b[0mfirst_vals\u001b[0m \u001b[0;34m=\u001b[0m \u001b[0msplit_line\u001b[0m\u001b[0;34m(\u001b[0m\u001b[0mfirst_line\u001b[0m\u001b[0;34m)\u001b[0m\u001b[0;34m\u001b[0m\u001b[0;34m\u001b[0m\u001b[0m\n\u001b[1;32m   1114\u001b[0m         \u001b[0;32mexcept\u001b[0m \u001b[0mStopIteration\u001b[0m\u001b[0;34m:\u001b[0m\u001b[0;34m\u001b[0m\u001b[0;34m\u001b[0m\u001b[0m\n",
      "\u001b[0;32m~/opt/anaconda3/lib/python3.7/codecs.py\u001b[0m in \u001b[0;36mdecode\u001b[0;34m(self, input, final)\u001b[0m\n\u001b[1;32m    320\u001b[0m         \u001b[0;31m# decode input (taking the buffer into account)\u001b[0m\u001b[0;34m\u001b[0m\u001b[0;34m\u001b[0m\u001b[0;34m\u001b[0m\u001b[0m\n\u001b[1;32m    321\u001b[0m         \u001b[0mdata\u001b[0m \u001b[0;34m=\u001b[0m \u001b[0mself\u001b[0m\u001b[0;34m.\u001b[0m\u001b[0mbuffer\u001b[0m \u001b[0;34m+\u001b[0m \u001b[0minput\u001b[0m\u001b[0;34m\u001b[0m\u001b[0;34m\u001b[0m\u001b[0m\n\u001b[0;32m--> 322\u001b[0;31m         \u001b[0;34m(\u001b[0m\u001b[0mresult\u001b[0m\u001b[0;34m,\u001b[0m \u001b[0mconsumed\u001b[0m\u001b[0;34m)\u001b[0m \u001b[0;34m=\u001b[0m \u001b[0mself\u001b[0m\u001b[0;34m.\u001b[0m\u001b[0m_buffer_decode\u001b[0m\u001b[0;34m(\u001b[0m\u001b[0mdata\u001b[0m\u001b[0;34m,\u001b[0m \u001b[0mself\u001b[0m\u001b[0;34m.\u001b[0m\u001b[0merrors\u001b[0m\u001b[0;34m,\u001b[0m \u001b[0mfinal\u001b[0m\u001b[0;34m)\u001b[0m\u001b[0;34m\u001b[0m\u001b[0;34m\u001b[0m\u001b[0m\n\u001b[0m\u001b[1;32m    323\u001b[0m         \u001b[0;31m# keep undecoded input until the next call\u001b[0m\u001b[0;34m\u001b[0m\u001b[0;34m\u001b[0m\u001b[0;34m\u001b[0m\u001b[0m\n\u001b[1;32m    324\u001b[0m         \u001b[0mself\u001b[0m\u001b[0;34m.\u001b[0m\u001b[0mbuffer\u001b[0m \u001b[0;34m=\u001b[0m \u001b[0mdata\u001b[0m\u001b[0;34m[\u001b[0m\u001b[0mconsumed\u001b[0m\u001b[0;34m:\u001b[0m\u001b[0;34m]\u001b[0m\u001b[0;34m\u001b[0m\u001b[0;34m\u001b[0m\u001b[0m\n",
      "\u001b[0;31mUnicodeDecodeError\u001b[0m: 'utf-8' codec can't decode byte 0x93 in position 0: invalid start byte"
     ]
    }
   ],
   "source": [
    "# give the extension for numpy arrays\n",
    "np_extension = '.npy'\n",
    "\n",
    "#for loop used to convert all ascii data files into numpy arrays with the same number of specified bins\n",
    "for filename in os.listdir(directory):\n",
    "    if filename.endswith(np_extension):\n",
    "        \n",
    "        #load files and assign to variable\n",
    "        collect_np = np.array([np.load(filename, delimiter=',', dtype=str) for filename in os.listdir(directory)])\n",
    "        \n",
    "        #stack binned spectrum arrays in sequence vertically (row wise)\n",
    "        stacked_np = np.vstack(collect_np)\n",
    "else: \n",
    "    print(\"Files have been stacked and saved.\")\n",
    "\n",
    "#extract the number of peptides in combined file to create mod/unmodified feature \n",
    "peptide_num, feature_num = stacked_np.shape\n",
    "        \n",
    "#change 0 if adding unmodified feature or 1 if adding modified feature\n",
    "mod_feature = np.repeat(0, [peptide_num], axis=0)\n",
    "        \n",
    "#unmodified feature column stacked onto data set\n",
    "feature_added_data = np.column_stack((stacked_np, mod_feature))\n",
    "\n",
    "#save data as one file, specify whether data is modified or unmodified, training or test data.\n",
    "save('mod_0.1', feature_added_data)"
   ]
  },
  {
   "cell_type": "markdown",
   "metadata": {},
   "source": [
    "Once I had the modified and unmodified files, I then needed to merge the both traning sets to create one file containing both modified and unmodified"
   ]
  },
  {
   "cell_type": "code",
   "execution_count": 102,
   "metadata": {},
   "outputs": [
    {
     "name": "stdout",
     "output_type": "stream",
     "text": [
      "Stack and Save complete.\n"
     ]
    }
   ],
   "source": [
    "#insert the desired path containing ascii files in the ''. \n",
    "path = os.path.expanduser(r\"~/Documents/python/identification_modified_proteins/bin_size_0.1/\")\n",
    "\n",
    "#changes current working directory to the path given \n",
    "directory = os.chdir(path)\n",
    "\n",
    "# give the extension for numpy arrays\n",
    "np_extension = '.npy'\n",
    "\n",
    "#for loop used to convert all ascii data files into numpy arrays with the same number of specified bins\n",
    "for filename in os.listdir(directory):\n",
    "    if filename.endswith(np_extension):\n",
    "        \n",
    "        #load files and assign to variable\n",
    "        collect_np = np.array([np.load(filename, allow_pickle=True) for filename in os.listdir(directory)])\n",
    "        \n",
    "        #combine both the modified and unmodified training data that we just created into one file\n",
    "        stack_all_data = np.vstack(collect_np)\n",
    "        \n",
    "        #save data\n",
    "        save('train_0.1_data', stack_all_data)\n",
    "else:\n",
    "    print('Stack and Save complete.')\n",
    "        \n",
    "        "
   ]
  },
  {
   "cell_type": "code",
   "execution_count": null,
   "metadata": {},
   "outputs": [],
   "source": []
  }
 ],
 "metadata": {
  "kernelspec": {
   "display_name": "Python 3",
   "language": "python",
   "name": "python3"
  },
  "language_info": {
   "codemirror_mode": {
    "name": "ipython",
    "version": 3
   },
   "file_extension": ".py",
   "mimetype": "text/x-python",
   "name": "python",
   "nbconvert_exporter": "python",
   "pygments_lexer": "ipython3",
   "version": "3.7.6"
  }
 },
 "nbformat": 4,
 "nbformat_minor": 4
}
