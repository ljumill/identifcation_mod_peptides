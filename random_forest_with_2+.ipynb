{
 "cells": [
  {
   "cell_type": "code",
   "execution_count": 1,
   "metadata": {},
   "outputs": [],
   "source": [
    "#import necessary modules\n",
    "from sklearn.model_selection import RandomizedSearchCV, GridSearchCV\n",
    "import numpy as np\n",
    "import pandas as pd\n",
    "import os\n",
    "from sklearn.model_selection import train_test_split \n",
    "from sklearn.metrics import classification_report\n",
    "from sklearn.metrics import confusion_matrix \n",
    "from sklearn.preprocessing import StandardScaler\n",
    "from sklearn.pipeline import Pipeline\n",
    "from sklearn.ensemble import RandomForestClassifier\n",
    "from scipy.stats import randint"
   ]
  },
  {
   "cell_type": "code",
   "execution_count": 5,
   "metadata": {},
   "outputs": [],
   "source": [
    "#insert the desired path containing combined data files\n",
    "path = os.path.expanduser(r\"~/Documents/python/identification_modified_proteins/bin_size_0.01/\")\n",
    "\n",
    "#changes current working directory to the path given \n",
    "directory = os.chdir(path)\n",
    "\n",
    "#load data \n",
    "load_data = np.load('all_train_data_0.01_with_2+.npy', allow_pickle=True)\n",
    "inten_df = pd.DataFrame(load_data)\n",
    "\n",
    "# Create feature and target arrays\n",
    "X = inten_df.drop(101300, axis=1) \n",
    "y = inten_df[101300].astype('int') #last column is the modified or not modified feature\n",
    "\n",
    "# Split into training and test set\n",
    "X_train, X_test, y_train, y_test = train_test_split(X, y, test_size = 0.4 , random_state=42)"
   ]
  },
  {
   "cell_type": "code",
   "execution_count": 6,
   "metadata": {},
   "outputs": [
    {
     "name": "stdout",
     "output_type": "stream",
     "text": [
      "0.7894736842105263\n"
     ]
    }
   ],
   "source": [
    "# Instantiate a classifier\n",
    "rfc = RandomForestClassifier()\n",
    "\n",
    "# Fit the classifier to the training data\n",
    "rfc.fit(X_train, y_train)\n",
    "\n",
    "# Print the accuracy\n",
    "print(rfc.score(X_test, y_test))"
   ]
  },
  {
   "cell_type": "code",
   "execution_count": 7,
   "metadata": {},
   "outputs": [
    {
     "name": "stdout",
     "output_type": "stream",
     "text": [
      "Test set predictions: [0 0 0 0 0 0 0 0 1 1 0 0 0 0 1 1 0 0 1]\n",
      "Test set accuracy: 0.79\n"
     ]
    }
   ],
   "source": [
    "print(\"Test set predictions: {}\".format(rfc.predict(X_test)))\n",
    "print(\"Test set accuracy: {:.2f}\".format(rfc.score(X_test, y_test)))"
   ]
  },
  {
   "cell_type": "code",
   "execution_count": 8,
   "metadata": {},
   "outputs": [
    {
     "name": "stdout",
     "output_type": "stream",
     "text": [
      "                                                         Details\n",
      "Machine Learning Classification Method  Random Forest Classifier\n",
      "Train Accuracy                                                 1\n",
      "Test Accuracy                                           0.736842\n"
     ]
    }
   ],
   "source": [
    "#adjust parameters\n",
    "rfc = RandomForestClassifier(max_depth=6, n_estimators=100)\n",
    "\n",
    "#fit classifier\n",
    "rfc.fit(X_train, y_train)\n",
    "\n",
    "#predict using the X_test data\n",
    "y_pred_rf = rfc.predict(X_test)\n",
    "\n",
    "#build dataframe to house the scores.\n",
    "df = pd.DataFrame()\n",
    "\n",
    "#name columns\n",
    "cols = ['Machine Learning Classification Method',\n",
    "        'Train Accuracy', \n",
    "        'Test Accuracy']\n",
    "\n",
    "#name required cells \n",
    "df.loc['Machine Learning Classification Method', \n",
    "       'Details'] = 'Random Forest Classifier'\n",
    "\n",
    "#fit classifier onto both datasets to compare \n",
    "df.loc['Train Accuracy', 'Details'] = rfc.score(X_train, y_train) \n",
    "df.loc['Test Accuracy', 'Details'] = rfc.score(X_test, y_test)\n",
    "print(df)"
   ]
  },
  {
   "cell_type": "markdown",
   "metadata": {},
   "source": [
    "Hypertuning parameters using RandomizedGridSearch as it would be too computationally exhausting to use GridSearchCV "
   ]
  },
  {
   "cell_type": "code",
   "execution_count": 9,
   "metadata": {},
   "outputs": [
    {
     "name": "stderr",
     "output_type": "stream",
     "text": [
      "/Users/LeandroJumilla/opt/anaconda3/lib/python3.7/site-packages/sklearn/model_selection/_validation.py:536: FitFailedWarning: Estimator fit failed. The score on this train-test partition for these parameters will be set to nan. Details: \n",
      "ValueError: max_features must be in (0, n_features]\n",
      "\n",
      "  FitFailedWarning)\n",
      "/Users/LeandroJumilla/opt/anaconda3/lib/python3.7/site-packages/sklearn/model_selection/_validation.py:536: FitFailedWarning: Estimator fit failed. The score on this train-test partition for these parameters will be set to nan. Details: \n",
      "ValueError: max_features must be in (0, n_features]\n",
      "\n",
      "  FitFailedWarning)\n",
      "/Users/LeandroJumilla/opt/anaconda3/lib/python3.7/site-packages/sklearn/model_selection/_validation.py:536: FitFailedWarning: Estimator fit failed. The score on this train-test partition for these parameters will be set to nan. Details: \n",
      "ValueError: max_features must be in (0, n_features]\n",
      "\n",
      "  FitFailedWarning)\n",
      "/Users/LeandroJumilla/opt/anaconda3/lib/python3.7/site-packages/sklearn/model_selection/_validation.py:536: FitFailedWarning: Estimator fit failed. The score on this train-test partition for these parameters will be set to nan. Details: \n",
      "ValueError: max_features must be in (0, n_features]\n",
      "\n",
      "  FitFailedWarning)\n",
      "/Users/LeandroJumilla/opt/anaconda3/lib/python3.7/site-packages/sklearn/model_selection/_validation.py:536: FitFailedWarning: Estimator fit failed. The score on this train-test partition for these parameters will be set to nan. Details: \n",
      "ValueError: max_features must be in (0, n_features]\n",
      "\n",
      "  FitFailedWarning)\n"
     ]
    },
    {
     "name": "stdout",
     "output_type": "stream",
     "text": [
      "Tuned RandomForest Parameters: {'criterion': 'gini', 'max_depth': 3, 'max_features': 42, 'min_samples_leaf': 40}\n",
      "Best score is 0.6088888888888888\n"
     ]
    }
   ],
   "source": [
    "# Setup the parameters and distributions to sample from: param_dist\n",
    "param_dist = {\"max_depth\": [3, None],\n",
    "              \"max_features\": randint(0, 50),\n",
    "              \"min_samples_leaf\": randint(0, 50),\n",
    "              \"criterion\": [\"gini\", \"entropy\"]}\n",
    "\n",
    "# Instantiate a Decision Tree classifier: tree\n",
    "rfc = RandomForestClassifier()\n",
    "\n",
    "# Instantiate the RandomizedSearchCV object: tree_cv\n",
    "rfc_cv = RandomizedSearchCV(rfc, param_dist, cv=5)\n",
    "\n",
    "# Fit it to the data\n",
    "rfc_cv.fit(X, y)\n",
    "\n",
    "# Print the tuned parameters and score\n",
    "print(\"Tuned RandomForest Parameters: {}\".format(rfc_cv.best_params_))\n",
    "print(\"Best score is {}\".format(rfc_cv.best_score_))"
   ]
  },
  {
   "cell_type": "markdown",
   "metadata": {},
   "source": [
    "Using the parameters \"max_features\": randint(0, 101300), \"min_samples_leaf\": randint(0, 101300) gave a best score of 0.5861. While the parameters \"max_features\": randint(0, 10), \"min_samples_leaf\": randint(0, 10) produced multiple fitfailed errors. TThe parameters \"max_features\": randint(0, 100), \"min_samples_leaf\": randint(0, 100) however produced a best score of 0.903"
   ]
  },
  {
   "cell_type": "code",
   "execution_count": 10,
   "metadata": {},
   "outputs": [
    {
     "name": "stdout",
     "output_type": "stream",
     "text": [
      "[[10  0]\n",
      " [ 4  5]]\n",
      "              precision    recall  f1-score   support\n",
      "\n",
      "           0       0.71      1.00      0.83        10\n",
      "           1       1.00      0.56      0.71         9\n",
      "\n",
      "    accuracy                           0.79        19\n",
      "   macro avg       0.86      0.78      0.77        19\n",
      "weighted avg       0.85      0.79      0.78        19\n",
      "\n"
     ]
    }
   ],
   "source": [
    "#fit the classifier to the training data\n",
    "rfc.fit(X_train, y_train)\n",
    "\n",
    "# Predict the labels of the test data: y_pred\n",
    "y_pred = rfc.predict(X_test)\n",
    "\n",
    "# Generate the confusion matrix and classification report\n",
    "print(confusion_matrix(y_test, y_pred))\n",
    "print(classification_report(y_test, y_pred))"
   ]
  },
  {
   "cell_type": "code",
   "execution_count": 11,
   "metadata": {},
   "outputs": [
    {
     "name": "stdout",
     "output_type": "stream",
     "text": [
      "Accuracy with Scaling: 0.7894736842105263\n",
      "Accuracy without Scaling: 0.7368421052631579\n"
     ]
    }
   ],
   "source": [
    "# Setup the pipeline steps: steps\n",
    "steps = [('scaler', StandardScaler()),\n",
    "        ('knn', RandomForestClassifier())]\n",
    "        \n",
    "# Create the pipeline: pipeline\n",
    "pipeline = Pipeline(steps)\n",
    "\n",
    "# Fit the pipeline to the training set: knn_scaled\n",
    "rfc_scaled = pipeline.fit(X_train, y_train)\n",
    "\n",
    "# Instantiate and fit a k-NN classifier to the unscaled data\n",
    "rfc_unscaled = rfc.fit(X_train, y_train)\n",
    "\n",
    "# Compute and print metrics\n",
    "print('Accuracy with Scaling: {}'.format(rfc_scaled.score(X_test, y_test)))\n",
    "print('Accuracy without Scaling: {}'.format(rfc_unscaled.score(X_test, y_test)))"
   ]
  },
  {
   "cell_type": "markdown",
   "metadata": {},
   "source": [
    "Comparable results across all metrics to desiciontree, this was expected given random forests are built on decision trees.\n",
    "\n",
    "In this case, scaling actually improves the classifer perform."
   ]
  },
  {
   "cell_type": "markdown",
   "metadata": {},
   "source": [
    "## PCA\n",
    "\n",
    "It was determined by running the script plotting the number of PC's that the maximum number of PC's was 24 and thus this was set as the maximum in its parameters"
   ]
  },
  {
   "cell_type": "code",
   "execution_count": 12,
   "metadata": {},
   "outputs": [],
   "source": [
    "from sklearn.decomposition import PCA\n",
    "import matplotlib.pyplot as plt"
   ]
  },
  {
   "cell_type": "code",
   "execution_count": 13,
   "metadata": {},
   "outputs": [
    {
     "name": "stdout",
     "output_type": "stream",
     "text": [
      "[0.27512629 0.09226276 0.07788127 0.05766278 0.05351533 0.04992562\n",
      " 0.04754853 0.04384599 0.04052781 0.03877501 0.03730112 0.0309969\n",
      " 0.02703635 0.02537425 0.01709722 0.01563782]\n",
      "63.2% test set accuracy\n"
     ]
    }
   ],
   "source": [
    "#build the pipeline\n",
    "pipe = Pipeline([\n",
    "        ('scaler', StandardScaler()),\n",
    "        ('reducer', PCA(n_components=16)),\n",
    "        ('classifier', RandomForestClassifier())])\n",
    "\n",
    "#fit the pipeline to the training data\n",
    "pipe.fit(X_train, y_train)\n",
    "\n",
    "#score the accuracy on the test set\n",
    "accuracy = pipe.score(X_test, y_test)\n",
    "\n",
    "#prints the explained variance ratio and accuracy\n",
    "print(pipe.steps[1][1].explained_variance_ratio_)\n",
    "print('{0:.1%} test set accuracy'.format(accuracy))"
   ]
  },
  {
   "cell_type": "code",
   "execution_count": 14,
   "metadata": {},
   "outputs": [
    {
     "data": {
      "image/png": "[encoded data removed]",
      "text/plain": [
       "<Figure size 432x288 with 1 Axes>"
      ]
     },
     "metadata": {
      "needs_background": "light"
     },
     "output_type": "display_data"
    }
   ],
   "source": [
    "# Setup arrays to store train and test accuracies\n",
    "n_components = np.arange(1, 24)\n",
    "train_accuracy = np.empty(len(n_components))\n",
    "test_accuracy = np.empty(len(n_components))\n",
    "\n",
    "# Loop over different values of k\n",
    "for i, k in enumerate(n_components):\n",
    "    \n",
    "    #setup a pipeline with a k-NN Classifier with k neighbors: knn\n",
    "    pipe = Pipeline([\n",
    "        ('scaler', StandardScaler()),\n",
    "        ('reducer', PCA(n_components=k)),\n",
    "        ('classifier', RandomForestClassifier())])\n",
    "\n",
    "    #fit the pipeline to to the training data\n",
    "    pipe.fit(X_train, y_train)\n",
    "    \n",
    "    #Compute accuracy on the training set\n",
    "    train_accuracy[i] = pipe.score(X_train, y_train)\n",
    "\n",
    "    #Compute accuracy on the testing set\n",
    "    test_accuracy[i] = pipe.score(X_test, y_test)\n",
    "\n",
    "# Generate plot\n",
    "plt.title('Random Forest: Varying Number of Neighbors')\n",
    "plt.plot(n_components, test_accuracy, label = 'Testing Accuracy')\n",
    "plt.plot(n_components, train_accuracy, label = 'Training Accuracy')\n",
    "plt.legend()\n",
    "plt.xlabel('Number of Principal Components')\n",
    "plt.ylabel('Accuracy')\n",
    "plt.show()"
   ]
  },
  {
   "cell_type": "markdown",
   "metadata": {},
   "source": [
    "Using principal components with the random forest classifier seems to perform better than principal components with decision tree classifier. "
   ]
  }
 ],
 "metadata": {
  "kernelspec": {
   "display_name": "Python 3",
   "language": "python",
   "name": "python3"
  },
  "language_info": {
   "codemirror_mode": {
    "name": "ipython",
    "version": 3
   },
   "file_extension": ".py",
   "mimetype": "text/x-python",
   "name": "python",
   "nbconvert_exporter": "python",
   "pygments_lexer": "ipython3",
   "version": "3.7.6"
  }
 },
 "nbformat": 4,
 "nbformat_minor": 4
}
