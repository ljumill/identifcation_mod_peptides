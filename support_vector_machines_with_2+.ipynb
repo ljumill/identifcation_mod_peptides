{
 "cells": [
  {
   "cell_type": "markdown",
   "metadata": {},
   "source": [
    "# Support Vector Machines with Extended Dataset\n",
    "## 0.01 Mass Units inlcuding 2+ Masses"
   ]
  },
  {
   "cell_type": "code",
   "execution_count": 7,
   "metadata": {},
   "outputs": [],
   "source": [
    "from sklearn.model_selection import RandomizedSearchCV, GridSearchCV\n",
    "import numpy as np\n",
    "import pandas as pd\n",
    "from sklearn.model_selection import train_test_split \n",
    "from sklearn import svm\n",
    "import os\n",
    "import matplotlib.pyplot as plt\n",
    "from sklearn.metrics import classification_report\n",
    "from sklearn.metrics import confusion_matrix "
   ]
  },
  {
   "cell_type": "code",
   "execution_count": 8,
   "metadata": {},
   "outputs": [],
   "source": [
    "#insert the desired path containing combined data files\n",
    "path = os.path.expanduser(r\"~/Documents/python/identification_modified_proteins/bin_size_0.01/\")\n",
    "\n",
    "#changes current working directory to the path given \n",
    "directory = os.chdir(path)"
   ]
  },
  {
   "cell_type": "code",
   "execution_count": 9,
   "metadata": {},
   "outputs": [],
   "source": [
    "#load data \n",
    "load_data = np.load('all_train_data_0.01_with_2+.npy', allow_pickle=True)\n",
    "df = pd.DataFrame(load_data)\n",
    "\n",
    "# Create feature and target arrays\n",
    "X = df.drop(101300, axis=1) \n",
    "y = df[101300].astype('int') #last column is the modified or not modified feature\n",
    "\n",
    "# Split into training and test set\n",
    "X_train, X_test, y_train, y_test = train_test_split(X, y, test_size = 0.4 , random_state=42)"
   ]
  },
  {
   "cell_type": "code",
   "execution_count": 10,
   "metadata": {},
   "outputs": [
    {
     "name": "stdout",
     "output_type": "stream",
     "text": [
      "0.9473684210526315\n"
     ]
    }
   ],
   "source": [
    "# Create classifier\n",
    "svc = svm.SVC()\n",
    "\n",
    "# Fit the classifier to the training data\n",
    "svc.fit(X_train, y_train)\n",
    "\n",
    "# Print the accuracy\n",
    "print(svc.score(X_test, y_test))"
   ]
  },
  {
   "cell_type": "code",
   "execution_count": 5,
   "metadata": {},
   "outputs": [
    {
     "name": "stdout",
     "output_type": "stream",
     "text": [
      "Test set predictions: [0 0 0 0 0 0 0 1 1 1 1 0 0 0 1 1 0 1 1]\n",
      "Test set accuracy: 0.95\n"
     ]
    }
   ],
   "source": [
    "print(\"Test set predictions: {}\".format(svc.predict(X_test)))\n",
    "print(\"Test set accuracy: {:.2f}\".format(svc.score(X_test, y_test)))"
   ]
  },
  {
   "cell_type": "code",
   "execution_count": 6,
   "metadata": {},
   "outputs": [
    {
     "name": "stdout",
     "output_type": "stream",
     "text": [
      "                                                        Details\n",
      "Machine Learning Classification Method  Support Vector Machines\n",
      "Train Accuracy                                         0.962963\n",
      "Test Accuracy                                          0.947368\n"
     ]
    }
   ],
   "source": [
    "#fit classifier\n",
    "svc.fit(X_train, y_train)\n",
    "\n",
    "#predict using the X_test data\n",
    "y_pred_rf = svc.predict(X_test)\n",
    "\n",
    "#build dataframe to house the scores.\n",
    "df = pd.DataFrame()\n",
    "\n",
    "#name columns\n",
    "cols = ['Machine Learning Classification Method',\n",
    "        'Train Accuracy', \n",
    "        'Test Accuracy']\n",
    "\n",
    "#name required cells \n",
    "df.loc['Machine Learning Classification Method', \n",
    "       'Details'] = 'Support Vector Machines'\n",
    "\n",
    "#fit classifier onto both datasets to compare \n",
    "df.loc['Train Accuracy', 'Details'] = svc.score(X_train, y_train) \n",
    "df.loc['Test Accuracy', 'Details'] = svc.score(X_test, y_test)\n",
    "print(df)"
   ]
  },
  {
   "cell_type": "markdown",
   "metadata": {},
   "source": [
    "Interestingly, accuracy using the extended data set increases and the discrepency between the training and test set accuracies decreases. "
   ]
  },
  {
   "cell_type": "code",
   "execution_count": 11,
   "metadata": {},
   "outputs": [
    {
     "name": "stdout",
     "output_type": "stream",
     "text": [
      "[[10  0]\n",
      " [ 1  8]]\n",
      "              precision    recall  f1-score   support\n",
      "\n",
      "           0       0.91      1.00      0.95        10\n",
      "           1       1.00      0.89      0.94         9\n",
      "\n",
      "    accuracy                           0.95        19\n",
      "   macro avg       0.95      0.94      0.95        19\n",
      "weighted avg       0.95      0.95      0.95        19\n",
      "\n"
     ]
    }
   ],
   "source": [
    "#metrics for classification\n",
    "# Fit the classifier to the training data\n",
    "svc.fit(X_train, y_train)\n",
    "\n",
    "# Predict the labels of the test data: y_pred\n",
    "y_pred = svc.predict(X_test)\n",
    "\n",
    "# Generate the confusion matrix and classification report\n",
    "print(confusion_matrix(y_test, y_pred))\n",
    "print(classification_report(y_test, y_pred))"
   ]
  },
  {
   "cell_type": "code",
   "execution_count": 44,
   "metadata": {},
   "outputs": [
    {
     "name": "stdout",
     "output_type": "stream",
     "text": [
      "[[10  0]\n",
      " [ 9  0]]\n",
      "              precision    recall  f1-score   support\n",
      "\n",
      "           0       0.53      1.00      0.69        10\n",
      "           1       0.00      0.00      0.00         9\n",
      "\n",
      "    accuracy                           0.53        19\n",
      "   macro avg       0.26      0.50      0.34        19\n",
      "weighted avg       0.28      0.53      0.36        19\n",
      "\n"
     ]
    },
    {
     "name": "stderr",
     "output_type": "stream",
     "text": [
      "/Users/LeandroJumilla/opt/anaconda3/lib/python3.7/site-packages/sklearn/metrics/_classification.py:1272: UndefinedMetricWarning: Precision and F-score are ill-defined and being set to 0.0 in labels with no predicted samples. Use `zero_division` parameter to control this behavior.\n",
      "  _warn_prf(average, modifier, msg_start, len(result))\n"
     ]
    }
   ],
   "source": [
    "#setup the hyperparameter grid\n",
    "param_grid = {'C': [0.1, 1, 10],\n",
    "              'gamma': [1, 0.1, 0.01],\n",
    "              }\n",
    "\n",
    "#instantiate the GridSearchCV object: logreg_cv\n",
    "svc_cv = GridSearchCV(svc, param_grid, cv=5)\n",
    "\n",
    "# Fit to the training set\n",
    "svc_cv.fit(X_train, y_train)\n",
    "\n",
    "# Predict the labels of the test set: y_pred\n",
    "y_pred = svc_cv.predict(X_test)\n",
    "\n",
    "# Generate the confusion matrix and classification report\n",
    "print(confusion_matrix(y_test, y_pred))\n",
    "print(classification_report(y_test, y_pred))"
   ]
  },
  {
   "cell_type": "markdown",
   "metadata": {},
   "source": [
    "SVMs are very sensitive to the settings of the parameters and to the scaling of the data. In particular, they require all the features to vary on a similar scale. To resolve this problem, rescaling each feature so that they are all approximately on the same scale is a solution."
   ]
  },
  {
   "cell_type": "markdown",
   "metadata": {},
   "source": [
    "Scaling and centering can also be done within a pipeline to make this process quicker. MinMaxScaler preprocessing method can be used instead of using the manual method above. "
   ]
  },
  {
   "cell_type": "code",
   "execution_count": 5,
   "metadata": {},
   "outputs": [],
   "source": [
    "#scaling and centering in pipline \n",
    "#import the necessary modules\n",
    "from sklearn.preprocessing import StandardScaler, MinMaxScaler\n",
    "from sklearn.pipeline import Pipeline, make_pipeline"
   ]
  },
  {
   "cell_type": "markdown",
   "metadata": {},
   "source": [
    "## MinMaxScaler"
   ]
  },
  {
   "cell_type": "code",
   "execution_count": 46,
   "metadata": {},
   "outputs": [
    {
     "name": "stdout",
     "output_type": "stream",
     "text": [
      "Accuracy with Scaling: 0.5263157894736842\n",
      "Accuracy without Scaling: 0.9473684210526315\n"
     ]
    }
   ],
   "source": [
    "#setup the pipeline steps: steps\n",
    "steps = [('scaler', MinMaxScaler()),\n",
    "        ('SVM', svm.SVC())]\n",
    "        \n",
    "# Create the pipeline: pipeline\n",
    "pipeline = Pipeline(steps)\n",
    "\n",
    "# Create train and test sets\n",
    "X_train, X_test, y_train, y_test = train_test_split(X, y, test_size=0.4, random_state=42)\n",
    "\n",
    "# Fit the pipeline to the training set: knn_scaled\n",
    "svc_scaled = pipeline.fit(X_train, y_train)\n",
    "\n",
    "# Instantiate and fit a k-NN classifier to the unscaled data\n",
    "svc_unscaled = svc.fit(X_train, y_train)\n",
    "\n",
    "# Compute and print metrics\n",
    "print('Accuracy with Scaling: {}'.format(svc_scaled.score(X_test, y_test)))\n",
    "print('Accuracy without Scaling: {}'.format(svc_unscaled.score(X_test, y_test)))"
   ]
  },
  {
   "cell_type": "markdown",
   "metadata": {},
   "source": [
    "As can be seen with this extended dataset, unlike the dataset including only 1+ masses, scaling significantly and negatively affects the dataset accuracy when including 2+ masses and is something to consider when building models. "
   ]
  },
  {
   "cell_type": "markdown",
   "metadata": {},
   "source": [
    "Now we can see if there is a difference using the standard scaler in a pipeline."
   ]
  },
  {
   "cell_type": "markdown",
   "metadata": {},
   "source": [
    "## StandardScaler"
   ]
  },
  {
   "cell_type": "code",
   "execution_count": 11,
   "metadata": {},
   "outputs": [
    {
     "name": "stdout",
     "output_type": "stream",
     "text": [
      "Accuracy with Scaling: 0.5263157894736842\n",
      "Accuracy without Scaling: 0.9473684210526315\n"
     ]
    }
   ],
   "source": [
    "#setup the pipeline steps: steps\n",
    "steps = [('scaler', StandardScaler()),\n",
    "        ('SVM', svm.SVC())]\n",
    "        \n",
    "# Create the pipeline: pipeline\n",
    "pipeline = Pipeline(steps)\n",
    "\n",
    "# Create train and test sets\n",
    "X_train, X_test, y_train, y_test = train_test_split(X, y, test_size=0.4, random_state=42)\n",
    "\n",
    "# Fit the pipeline to the training set: knn_scaled\n",
    "svc_scaled = pipeline.fit(X_train, y_train)\n",
    "\n",
    "# Instantiate and fit a k-NN classifier to the unscaled data\n",
    "svc_unscaled = svc.fit(X_train, y_train)\n",
    "\n",
    "# Compute and print metrics\n",
    "print('Accuracy with Scaling: {}'.format(svc_scaled.score(X_test, y_test)))\n",
    "print('Accuracy without Scaling: {}'.format(svc_unscaled.score(X_test, y_test)))"
   ]
  },
  {
   "cell_type": "markdown",
   "metadata": {},
   "source": [
    "Once again it does not matter which scaler is used, the same results are produced. \n",
    "We can now carry out hyperparameter tuning with and without scaling to see the results. \n",
    "## Hyperparameter tuning with scaling"
   ]
  },
  {
   "cell_type": "code",
   "execution_count": 53,
   "metadata": {},
   "outputs": [
    {
     "name": "stdout",
     "output_type": "stream",
     "text": [
      "Accuracy: 0.5263157894736842\n",
      "              precision    recall  f1-score   support\n",
      "\n",
      "           0       0.53      1.00      0.69        10\n",
      "           1       0.00      0.00      0.00         9\n",
      "\n",
      "    accuracy                           0.53        19\n",
      "   macro avg       0.26      0.50      0.34        19\n",
      "weighted avg       0.28      0.53      0.36        19\n",
      "\n",
      "Tuned Model Parameters: {'SVM__C': 0.1, 'SVM__gamma': 1, 'SVM__kernel': 'rbf'}\n"
     ]
    },
    {
     "name": "stderr",
     "output_type": "stream",
     "text": [
      "/Users/LeandroJumilla/opt/anaconda3/lib/python3.7/site-packages/sklearn/metrics/_classification.py:1272: UndefinedMetricWarning: Precision and F-score are ill-defined and being set to 0.0 in labels with no predicted samples. Use `zero_division` parameter to control this behavior.\n",
      "  _warn_prf(average, modifier, msg_start, len(result))\n"
     ]
    }
   ],
   "source": [
    "#Pipeline for classification\n",
    "# Setup the pipeline\n",
    "steps = [('scaler', StandardScaler()),\n",
    "         ('SVM', svm.SVC())]\n",
    "\n",
    "pipeline = Pipeline(steps)\n",
    "\n",
    "# Specify the hyperparameter space\n",
    "parameters = {'SVM__C':[0.1, 1, 10, 100, 1000],\n",
    "              'SVM__gamma':[1, 0.1, 0.01, 0.001, 0.0001],\n",
    "              'SVM__kernel': ['rbf']}\n",
    "\n",
    "# Create train and test sets\n",
    "X_train, X_test, y_train, y_test = train_test_split(X, y, test_size=0.4, random_state=42)\n",
    "\n",
    "# Instantiate the GridSearchCV object: cv\n",
    "cv = GridSearchCV(pipeline, param_grid=parameters, cv=5)\n",
    "\n",
    "# Fit to the training set\n",
    "cv.fit(X_train, y_train)\n",
    "\n",
    "# Predict the labels of the test set: y_pred\n",
    "y_pred = cv.predict(X_test)\n",
    "\n",
    "# Compute and print metrics\n",
    "print(\"Accuracy: {}\".format(cv.score(X_test, y_test)))\n",
    "print(classification_report(y_test, y_pred))\n",
    "print(\"Tuned Model Parameters: {}\".format(cv.best_params_))"
   ]
  },
  {
   "cell_type": "markdown",
   "metadata": {},
   "source": [
    "As we can see, scaling directly affects the modified peptides, getting no correct predictions.\n",
    "## Hyperparameter tuning without scaling"
   ]
  },
  {
   "cell_type": "markdown",
   "metadata": {},
   "source": [
    "It seems without scaling the GridsearchCV takes, computationally, much longer to process when considering a larger range of parameter space"
   ]
  },
  {
   "cell_type": "code",
   "execution_count": 12,
   "metadata": {},
   "outputs": [
    {
     "name": "stdout",
     "output_type": "stream",
     "text": [
      "Accuracy: 0.5263157894736842\n",
      "              precision    recall  f1-score   support\n",
      "\n",
      "           0       0.53      1.00      0.69        10\n",
      "           1       0.00      0.00      0.00         9\n",
      "\n",
      "    accuracy                           0.53        19\n",
      "   macro avg       0.26      0.50      0.34        19\n",
      "weighted avg       0.28      0.53      0.36        19\n",
      "\n",
      "Tuned Model Parameters: {'SVM__C': 0.1, 'SVM__gamma': 1, 'SVM__kernel': 'rbf'}\n"
     ]
    },
    {
     "name": "stderr",
     "output_type": "stream",
     "text": [
      "/Users/LeandroJumilla/opt/anaconda3/lib/python3.7/site-packages/sklearn/metrics/_classification.py:1272: UndefinedMetricWarning: Precision and F-score are ill-defined and being set to 0.0 in labels with no predicted samples. Use `zero_division` parameter to control this behavior.\n",
      "  _warn_prf(average, modifier, msg_start, len(result))\n"
     ]
    }
   ],
   "source": [
    "#Pipeline for classification\n",
    "# Setup the pipeline\n",
    "steps = [('SVM', svm.SVC())]\n",
    "\n",
    "pipeline = Pipeline(steps)\n",
    "\n",
    "# Specify the hyperparameter space\n",
    "parameters = {'SVM__C':[0.1, 1, 10, 100, 1000],\n",
    "              'SVM__gamma':[1, 0.1, 0.01, 0.001, 0.0001],\n",
    "              'SVM__kernel': ['rbf']}\n",
    "\n",
    "# Create train and test sets\n",
    "X_train, X_test, y_train, y_test = train_test_split(X, y, test_size=0.4, random_state=42)\n",
    "\n",
    "# Instantiate the GridSearchCV object: cv\n",
    "cv = GridSearchCV(pipeline, param_grid=parameters, cv=5)\n",
    "\n",
    "# Fit to the training set\n",
    "cv.fit(X_train, y_train)\n",
    "\n",
    "# Predict the labels of the test set: y_pred\n",
    "y_pred = cv.predict(X_test)\n",
    "\n",
    "# Compute and print metrics\n",
    "print(\"Accuracy: {}\".format(cv.score(X_test, y_test)))\n",
    "print(classification_report(y_test, y_pred))\n",
    "print(\"Tuned Model Parameters: {}\".format(cv.best_params_))"
   ]
  },
  {
   "cell_type": "markdown",
   "metadata": {},
   "source": [
    "## PCA "
   ]
  },
  {
   "cell_type": "code",
   "execution_count": 15,
   "metadata": {},
   "outputs": [],
   "source": [
    "from sklearn.decomposition import PCA"
   ]
  },
  {
   "cell_type": "code",
   "execution_count": null,
   "metadata": {},
   "outputs": [],
   "source": [
    "#build the pipeline\n",
    "pipe = Pipeline([\n",
    "        ('reducer', PCA(n_components=15)),\n",
    "        ('classifier',svm.SVC())])\n",
    "\n",
    "#fit the pipeline to the training data\n",
    "pipe.fit(X_train, y_train)\n",
    "\n",
    "#score the accuracy on the test set\n",
    "accuracy = pipe.score(X_test, y_test)\n",
    "\n",
    "#prints the explained variance ratio and accuracy\n",
    "print('{0:.1%} test set accuracy'.format(accuracy))"
   ]
  },
  {
   "cell_type": "code",
   "execution_count": 26,
   "metadata": {},
   "outputs": [
    {
     "name": "stdout",
     "output_type": "stream",
     "text": [
      "[0.27512629 0.09226276 0.07788127 0.05766278 0.05351533 0.04992562\n",
      " 0.04754853 0.04384599 0.04052781 0.03877501 0.03730112 0.0309969\n",
      " 0.02703635 0.02537425 0.01709722 0.01563782 0.01492213 0.01394321\n",
      " 0.01213941 0.01030336 0.00730817 0.00341753 0.00282107]\n"
     ]
    }
   ],
   "source": [
    "print(pipe.steps[1][1].explained_variance_ratio_)"
   ]
  },
  {
   "cell_type": "markdown",
   "metadata": {},
   "source": [
    "Performs better with PC compared to the other models using PC."
   ]
  },
  {
   "cell_type": "code",
   "execution_count": 25,
   "metadata": {},
   "outputs": [
    {
     "data": {
      "image/png": "[encoded data removed]",
      "text/plain": [
       "<Figure size 432x288 with 1 Axes>"
      ]
     },
     "metadata": {
      "needs_background": "light"
     },
     "output_type": "display_data"
    }
   ],
   "source": [
    "# Setup arrays to store train and test accuracies\n",
    "n_components = np.arange(1, 24)\n",
    "train_accuracy = np.empty(len(n_components))\n",
    "test_accuracy = np.empty(len(n_components))\n",
    "\n",
    "# Loop over different values of k\n",
    "for i, k in enumerate(n_components):\n",
    "    \n",
    "    #setup a pipeline with a k-NN Classifier with k neighbors: knn\n",
    "    pipe = Pipeline([\n",
    "        ('scaler', StandardScaler()),\n",
    "        ('reducer', PCA(n_components=k)),\n",
    "        ('classifier', svm.SVC())])\n",
    "\n",
    "    #fit the pipeline to to the training data\n",
    "    pipe.fit(X_train, y_train)\n",
    "    \n",
    "    #Compute accuracy on the training set\n",
    "    train_accuracy[i] = pipe.score(X_train, y_train)\n",
    "\n",
    "    #Compute accuracy on the testing set\n",
    "    test_accuracy[i] = pipe.score(X_test, y_test)\n",
    "\n",
    "# Generate plot\n",
    "plt.title('SVC: Varying Number of Principle Components')\n",
    "plt.plot(n_components, test_accuracy, label = 'Testing Accuracy')\n",
    "plt.plot(n_components, train_accuracy, label = 'Training Accuracy')\n",
    "plt.legend()\n",
    "plt.xlabel('Number of Principal Components')\n",
    "plt.ylabel('Accuracy')\n",
    "plt.show()"
   ]
  },
  {
   "cell_type": "markdown",
   "metadata": {},
   "source": [
    "## PCA without Scaling"
   ]
  },
  {
   "cell_type": "code",
   "execution_count": 16,
   "metadata": {},
   "outputs": [
    {
     "data": {
      "image/png": "[encoded data removed]",
      "text/plain": [
       "<Figure size 432x288 with 1 Axes>"
      ]
     },
     "metadata": {
      "needs_background": "light"
     },
     "output_type": "display_data"
    }
   ],
   "source": [
    "# Setup arrays to store train and test accuracies\n",
    "n_components = np.arange(1, 24)\n",
    "train_accuracy = np.empty(len(n_components))\n",
    "test_accuracy = np.empty(len(n_components))\n",
    "\n",
    "# Loop over different values of k\n",
    "for i, k in enumerate(n_components):\n",
    "    \n",
    "    #setup a pipeline with a k-NN Classifier with k neighbors: knn\n",
    "    pipe = Pipeline([\n",
    "        ('reducer', PCA(n_components=k)),\n",
    "        ('classifier', svm.SVC())])\n",
    "\n",
    "    #fit the pipeline to to the training data\n",
    "    pipe.fit(X_train, y_train)\n",
    "    \n",
    "    #Compute accuracy on the training set\n",
    "    train_accuracy[i] = pipe.score(X_train, y_train)\n",
    "\n",
    "    #Compute accuracy on the testing set\n",
    "    test_accuracy[i] = pipe.score(X_test, y_test)\n",
    "\n",
    "# Generate plot\n",
    "plt.title('SVC: Varying Number of Principle Components')\n",
    "plt.plot(n_components, test_accuracy, label = 'Testing Accuracy')\n",
    "plt.plot(n_components, train_accuracy, label = 'Training Accuracy')\n",
    "plt.legend()\n",
    "plt.xlabel('Number of Principal Components')\n",
    "plt.ylabel('Accuracy')\n",
    "plt.show()"
   ]
  },
  {
   "cell_type": "markdown",
   "metadata": {},
   "source": [
    "Performs much better without scaling the data first. "
   ]
  },
  {
   "cell_type": "markdown",
   "metadata": {},
   "source": [
    "## Hold-out Set\n",
    "SVM (1+ & 2+ masses) lowest optimum number of PCs with Scaling: 15\n",
    "SVM (1+ & 2+ masses) lowest optimum number of PCs without Scaling: 4\n",
    "\n",
    "Note that SVM are very senstive to scaling and thus the disparity between PCs"
   ]
  },
  {
   "cell_type": "code",
   "execution_count": 17,
   "metadata": {},
   "outputs": [],
   "source": [
    "#insert the desired path containing combined data files\n",
    "path = os.path.expanduser(r\"~/Documents/python/identification_modified_proteins/combined_hold_out/\")\n",
    "\n",
    "#changes current working directory to the path given \n",
    "directory = os.chdir(path)\n",
    "\n",
    "#load data \n",
    "hold_out_data = np.load('combined_hold_out_test.npy', allow_pickle=True)\n",
    "hold_out_df = pd.DataFrame(hold_out_data)\n",
    "\n",
    "# Create feature and target arrays\n",
    "X_hold_out = hold_out_df.drop(101300, axis=1) \n",
    "y_hold_out = hold_out_df[101300].astype('int') #last column is the modified or not modified feature"
   ]
  },
  {
   "cell_type": "code",
   "execution_count": 18,
   "metadata": {},
   "outputs": [
    {
     "name": "stdout",
     "output_type": "stream",
     "text": [
      "Hold-out Set Accuracy with Scaling: 0.38461538461538464\n",
      "Hold-out Set Accuracy without Scaling: 1.0\n"
     ]
    }
   ],
   "source": [
    "#create variables for number of each principal components\n",
    "scaled_PC = 15\n",
    "unscaled_PC = 4\n",
    "\n",
    "#setup the pipeline with scaler\n",
    "pipe_1 = Pipeline([('scaler', StandardScaler()),\n",
    "                    ('reducer', PCA(scaled_PC)),\n",
    "                    ('SVC', svm.SVC())])\n",
    "        \n",
    "#create second pipeline with no scaler\n",
    "pipe_2 = Pipeline([('reducer', PCA(unscaled_PC)),\n",
    "                    ('SVC', svm.SVC())])\n",
    "\n",
    "#fit the pipeline to the whole data set; hold out set acts as test set \n",
    "knn_pca_scaled = pipe_1.fit(X, y)\n",
    "\n",
    "#fit the seoncd pipeline to the whole data set. \n",
    "knn_pca_unscaled = pipe_2.fit(X, y)\n",
    "\n",
    "# Compute and print metrics\n",
    "print('Hold-out Set Accuracy with Scaling: {}'.format(knn_pca_scaled.score(X_hold_out, y_hold_out)))\n",
    "print('Hold-out Set Accuracy without Scaling: {}'.format(knn_pca_unscaled.score(X_hold_out, y_hold_out)))"
   ]
  },
  {
   "cell_type": "code",
   "execution_count": null,
   "metadata": {},
   "outputs": [],
   "source": []
  }
 ],
 "metadata": {
  "kernelspec": {
   "display_name": "Python 3",
   "language": "python",
   "name": "python3"
  },
  "language_info": {
   "codemirror_mode": {
    "name": "ipython",
    "version": 3
   },
   "file_extension": ".py",
   "mimetype": "text/x-python",
   "name": "python",
   "nbconvert_exporter": "python",
   "pygments_lexer": "ipython3",
   "version": "3.7.6"
  }
 },
 "nbformat": 4,
 "nbformat_minor": 4
}
