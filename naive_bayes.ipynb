{
 "cells": [
  {
   "cell_type": "code",
   "execution_count": 7,
   "metadata": {},
   "outputs": [],
   "source": [
    "#import all modules \n",
    "from sklearn.model_selection import train_test_split \n",
    "from sklearn.naive_bayes import GaussianNB\n",
    "import pandas as pd\n",
    "import numpy as np\n",
    "import os\n",
    "from numpy import asarray, save, load\n",
    "import matplotlib.pyplot as plt"
   ]
  },
  {
   "cell_type": "code",
   "execution_count": 2,
   "metadata": {},
   "outputs": [],
   "source": [
    "#insert the desired path containing combined data files\n",
    "path = os.path.expanduser(r\"~/Documents/python/identification_modified_proteins/scripts/\")\n",
    "\n",
    "#changes current working directory to the path given \n",
    "directory = os.chdir(path)"
   ]
  },
  {
   "cell_type": "code",
   "execution_count": null,
   "metadata": {},
   "outputs": [],
   "source": [
    "from sklearn.naive_bayes import GaussianNB\n",
    "classifier = GaussianNB()\n",
    "classifier.fit(X_train, y_train)\n",
    "from sklearn.metrics import confusion_matrix,accuracy_score\n",
    "confusion_matrix(y_test, y_pred)\n",
    "accuracy_score(y_test,y_pred)"
   ]
  },
  {
   "cell_type": "code",
   "execution_count": 8,
   "metadata": {},
   "outputs": [
    {
     "name": "stdout",
     "output_type": "stream",
     "text": [
      "1.0\n"
     ]
    }
   ],
   "source": [
    "#load data \n",
    "load_data = np.load('all_train_data.npy', allow_pickle=True)\n",
    "df = pd.DataFrame(load_data)\n",
    "\n",
    "# Create feature and target arrays\n",
    "X = df.drop(101300, axis=1) \n",
    "y = df[101300].astype('int') #last column is the modified or not modified feature\n",
    "\n",
    "# Split into training and test set\n",
    "X_train, X_test, y_train, y_test = train_test_split(X, y, test_size = 0.4 , random_state=42, stratify=y)\n",
    "\n",
    "# Create a k-NN classifier with 7 neighbors: knn\n",
    "bayes = GaussianNB()\n",
    "\n",
    "# Fit the classifier to the training data\n",
    "bayes.fit(X_train, y_train)\n",
    "\n",
    "# Print the accuracy\n",
    "print(bayes.score(X_test, y_test))"
   ]
  },
  {
   "cell_type": "code",
   "execution_count": 9,
   "metadata": {},
   "outputs": [
    {
     "name": "stdout",
     "output_type": "stream",
     "text": [
      "Test set predictions: [0 0 1 0 0 0 0 1 1 1 1 0 1 0 0 1 0]\n",
      "Test set accuracy: 1.00\n"
     ]
    }
   ],
   "source": [
    "print(\"Test set predictions: {}\".format(bayes.predict(X_test)))\n",
    "print(\"Test set accuracy: {:.2f}\".format(bayes.score(X_test, y_test)))"
   ]
  },
  {
   "cell_type": "code",
   "execution_count": 10,
   "metadata": {},
   "outputs": [
    {
     "name": "stdout",
     "output_type": "stream",
     "text": [
      "                                            Details\n",
      "Machine Learning Classification Method  Naive Bayes\n",
      "Train Accuracy                                    1\n",
      "Test Accuracy                                     1\n"
     ]
    }
   ],
   "source": [
    "#fit classifier\n",
    "bayes.fit(X_train, y_train)\n",
    "\n",
    "#predict using the X_test data\n",
    "y_pred_rf = bayes.predict(X_test)\n",
    "\n",
    "#build dataframe to house the scores.\n",
    "df = pd.DataFrame()\n",
    "\n",
    "#name columns\n",
    "cols = ['Machine Learning Classification Method',\n",
    "        'Train Accuracy', \n",
    "        'Test Accuracy']\n",
    "\n",
    "#name required cells \n",
    "df.loc['Machine Learning Classification Method', \n",
    "       'Details'] = 'Naive Bayes'\n",
    "\n",
    "#fit classifier onto both datasets to compare \n",
    "df.loc['Train Accuracy', 'Details'] = bayes.score(X_train, y_train) \n",
    "df.loc['Test Accuracy', 'Details'] = bayes.score(X_test, y_test)\n",
    "print(df)"
   ]
  },
  {
   "cell_type": "markdown",
   "metadata": {},
   "source": [
    "Graph shows that the best number of neigbhours to use is 7 or 6. Any increase causes model to overfit."
   ]
  },
  {
   "cell_type": "code",
   "execution_count": 11,
   "metadata": {},
   "outputs": [
    {
     "name": "stdout",
     "output_type": "stream",
     "text": [
      "[[10  0]\n",
      " [ 0  7]]\n",
      "              precision    recall  f1-score   support\n",
      "\n",
      "           0       1.00      1.00      1.00        10\n",
      "           1       1.00      1.00      1.00         7\n",
      "\n",
      "    accuracy                           1.00        17\n",
      "   macro avg       1.00      1.00      1.00        17\n",
      "weighted avg       1.00      1.00      1.00        17\n",
      "\n"
     ]
    }
   ],
   "source": [
    "#metrics for classification\n",
    "# Import necessary modules\n",
    "from sklearn.metrics import classification_report\n",
    "from sklearn.metrics import confusion_matrix \n",
    "\n",
    "# Fit the classifier to the training data\n",
    "bayes.fit(X_train, y_train)\n",
    "\n",
    "# Predict the labels of the test data: y_pred\n",
    "y_pred = bayes.predict(X_test)\n",
    "\n",
    "# Generate the confusion matrix and classification report\n",
    "print(confusion_matrix(y_test, y_pred))\n",
    "print(classification_report(y_test, y_pred))"
   ]
  },
  {
   "cell_type": "code",
   "execution_count": 12,
   "metadata": {},
   "outputs": [
    {
     "name": "stdout",
     "output_type": "stream",
     "text": [
      "Accuracy with Scaling: 0.9411764705882353\n",
      "Accuracy without Scaling: 1.0\n"
     ]
    }
   ],
   "source": [
    "#scaling and centering in pipline \n",
    "# Import the necessary modules\n",
    "from sklearn.preprocessing import StandardScaler\n",
    "from sklearn.pipeline import Pipeline\n",
    "\n",
    "# Setup the pipeline steps: steps\n",
    "steps = [('scaler', StandardScaler()),\n",
    "        ('bayes', GaussianNB())]\n",
    "        \n",
    "# Create the pipeline: pipeline\n",
    "pipeline = Pipeline(steps)\n",
    "\n",
    "# Create train and test sets\n",
    "X_train, X_test, y_train, y_test = train_test_split(X, y, test_size=0.4, random_state=42)\n",
    "\n",
    "# Fit the pipeline to the training set: knn_scaled\n",
    "bayes_scaled = pipeline.fit(X_train, y_train)\n",
    "\n",
    "# Instantiate and fit a k-NN classifier to the unscaled data\n",
    "bayes_unscaled = bayes.fit(X_train, y_train)\n",
    "\n",
    "# Compute and print metrics\n",
    "print('Accuracy with Scaling: {}'.format(bayes_scaled.score(X_test, y_test)))\n",
    "print('Accuracy without Scaling: {}'.format(bayes_unscaled.score(X_test, y_test)))"
   ]
  },
  {
   "cell_type": "markdown",
   "metadata": {},
   "source": [
    "PCA can now be done to reduce dimensionality of the dataset. It was found that 16 principal components was the minium number of components to meet the target of only 10% explained variance loss. \n"
   ]
  },
  {
   "cell_type": "code",
   "execution_count": 14,
   "metadata": {},
   "outputs": [],
   "source": [
    "from sklearn.decomposition import PCA"
   ]
  },
  {
   "cell_type": "code",
   "execution_count": 15,
   "metadata": {},
   "outputs": [
    {
     "name": "stdout",
     "output_type": "stream",
     "text": [
      "[0.38292233 0.18447505 0.06563357 0.06000496 0.04557259 0.03904013\n",
      " 0.03684829 0.03620122 0.02944592 0.02576071 0.02346922 0.02139708\n",
      " 0.01971206 0.01481332 0.00799426 0.00485559]\n",
      "94.1% test set accuracy\n"
     ]
    }
   ],
   "source": [
    "#build the pipeline\n",
    "pipe = Pipeline([\n",
    "        ('scaler', StandardScaler()),\n",
    "        ('reducer', PCA(n_components=16)),\n",
    "        ('classifier', GaussianNB())])\n",
    "\n",
    "#fit the pipeline to the training datA\n",
    "pipe.fit(X_train, y_train)\n",
    "\n",
    "#score the accuracy on the test set\n",
    "accuracy = pipe.score(X_test, y_test)\n",
    "\n",
    "#prints the explained variance ratio and accuracy\n",
    "print(pipe.steps[1][1].explained_variance_ratio_)\n",
    "print('{0:.1%} test set accuracy'.format(accuracy))"
   ]
  },
  {
   "cell_type": "markdown",
   "metadata": {},
   "source": [
    "Similar to how we plotted testing and training accurracy of varying k nearest neighbours, we can see do the same for varying numbers of principal components to observe how accuracy behaves."
   ]
  },
  {
   "cell_type": "code",
   "execution_count": 16,
   "metadata": {},
   "outputs": [
    {
     "data": {
      "image/png": "[encoded data removed]",
      "text/plain": [
       "<Figure size 432x288 with 1 Axes>"
      ]
     },
     "metadata": {
      "needs_background": "light"
     },
     "output_type": "display_data"
    }
   ],
   "source": [
    "# Setup arrays to store train and test accuracies\n",
    "n_components = np.arange(1, 24)\n",
    "train_accuracy = np.empty(len(n_components))\n",
    "test_accuracy = np.empty(len(n_components))\n",
    "\n",
    "# Loop over different values of k\n",
    "for i, k in enumerate(n_components):\n",
    "    \n",
    "    #setup a pipeline with a k-NN Classifier with k neighbors: knn\n",
    "    pipe = Pipeline([\n",
    "        ('scaler', StandardScaler()),\n",
    "        ('reducer', PCA(n_components=k)),\n",
    "        ('classifier',GaussianNB())])\n",
    "\n",
    "    #fit the pipeline to to the training data\n",
    "    pipe.fit(X_train, y_train)\n",
    "    \n",
    "    #Compute accuracy on the training set\n",
    "    train_accuracy[i] = pipe.score(X_train, y_train)\n",
    "\n",
    "    #Compute accuracy on the testing set\n",
    "    test_accuracy[i] = pipe.score(X_test, y_test)\n",
    "\n",
    "# Generate plot\n",
    "plt.title('k-NN: Varying Number of Principle Components')\n",
    "plt.plot(n_components, test_accuracy, label = 'Testing Accuracy')\n",
    "plt.plot(n_components, train_accuracy, label = 'Training Accuracy')\n",
    "plt.legend()\n",
    "plt.xlabel('Number of Principal Components')\n",
    "plt.ylabel('Accuracy')\n",
    "plt.show()"
   ]
  },
  {
   "cell_type": "code",
   "execution_count": null,
   "metadata": {},
   "outputs": [],
   "source": [
    "#setup arrays to store train and test accuracies\n",
    "n_components = np.arange(1, 24)\n",
    "train_accuracy = np.empty(len(n_components))\n",
    "test_accuracy = np.empty(len(n_components))\n",
    "train_accuracy_uns = np.empty(len(n_components))\n",
    "test_accuracy_uns = np.empty(len(n_components))\n",
    "\n",
    "#loop over different values of k\n",
    "for i, k in enumerate(n_components):\n",
    "    \n",
    "    #setup a pipeline with scaler\n",
    "    pipe = Pipeline([\n",
    "        ('scaler', StandardScaler()),\n",
    "        ('reducer', PCA(n_components=k)),\n",
    "        ('classifier', DecisionTreeClassifier())])\n",
    "\n",
    "    #fit the pipeline to to the training data\n",
    "    pipe.fit(X_train, y_train)\n",
    "    \n",
    "    #compute accuracy on the training set\n",
    "    train_accuracy[i] = pipe.score(X_train, y_train)\n",
    "\n",
    "    #compute accuracy on the testing set\n",
    "    test_accuracy[i] = pipe.score(X_test, y_test)\n",
    "    \n",
    "    #setup a second pipeline with no scaler\n",
    "    pipe_2 = Pipeline([\n",
    "        ('reducer', PCA(n_components=k)),\n",
    "        ('classifier', DecisionTreeClassifier())])\n",
    "\n",
    "    #fit the pipeline to to the training data\n",
    "    pipe_2.fit(X_train, y_train)\n",
    "    \n",
    "    #compute accuracy on the training set\n",
    "    train_accuracy_uns[i] = pipe_2.score(X_train, y_train)\n",
    "\n",
    "    #compute accuracy on the testing set\n",
    "    train_accuracy_uns[i] = pipe_2.score(X_test, y_test)\n",
    "\n",
    "#generate plot\n",
    "plt.title('Decision Tree: Varying Number of Principal Components')\n",
    "plt.plot(n_components, test_accuracy, label = 'Scaled Testing Accuracy')\n",
    "plt.plot(n_components, train_accuracy, label = 'Scaled Training Accuracy')\n",
    "plt.plot(n_components, test_accuracy_uns, label = 'Unscaled Testing Accuracy')\n",
    "plt.plot(n_components, train_accuracy_uns, label = 'Unscaled Training Accuracy')\n",
    "plt.legend()\n",
    "plt.xlabel('Number of Principal Components')\n",
    "plt.ylabel('Accuracy')\n",
    "plt.show()"
   ]
  },
  {
   "cell_type": "markdown",
   "metadata": {},
   "source": [
    "Seems to show overfitting. "
   ]
  }
 ],
 "metadata": {
  "kernelspec": {
   "display_name": "Python 3",
   "language": "python",
   "name": "python3"
  },
  "language_info": {
   "codemirror_mode": {
    "name": "ipython",
    "version": 3
   },
   "file_extension": ".py",
   "mimetype": "text/x-python",
   "name": "python",
   "nbconvert_exporter": "python",
   "pygments_lexer": "ipython3",
   "version": "3.7.6"
  }
 },
 "nbformat": 4,
 "nbformat_minor": 4
}
