{
 "cells": [
  {
   "cell_type": "code",
   "execution_count": 176,
   "metadata": {},
   "outputs": [
    {
     "name": "stdout",
     "output_type": "stream",
     "text": [
      "Collecting blaze\n",
      "  Downloading blaze-0.10.1.tar.gz (472 kB)\n",
      "\u001b[K     |████████████████████████████████| 472 kB 473 kB/s eta 0:00:01\n",
      "\u001b[?25hRequirement already satisfied: flask>=0.10.1 in /Users/LeandroJumilla/opt/anaconda3/lib/python3.7/site-packages (from blaze) (1.1.1)\n",
      "Collecting flask-cors\n",
      "  Downloading Flask_Cors-3.0.10-py2.py3-none-any.whl (14 kB)\n",
      "Collecting odo>=0.4.0\n",
      "  Downloading odo-0.5.0.tar.gz (129 kB)\n",
      "\u001b[K     |████████████████████████████████| 129 kB 257 kB/s eta 0:00:01\n",
      "\u001b[?25hRequirement already satisfied: psutil in /Users/LeandroJumilla/opt/anaconda3/lib/python3.7/site-packages (from blaze) (5.6.7)\n",
      "Requirement already satisfied: sqlalchemy>=0.8.0 in /Users/LeandroJumilla/opt/anaconda3/lib/python3.7/site-packages (from blaze) (1.3.13)\n",
      "Requirement already satisfied: toolz in /Users/LeandroJumilla/opt/anaconda3/lib/python3.7/site-packages (from blaze) (0.10.0)\n",
      "Requirement already satisfied: Jinja2>=2.10.1 in /Users/LeandroJumilla/opt/anaconda3/lib/python3.7/site-packages (from flask>=0.10.1->blaze) (2.11.1)\n",
      "Requirement already satisfied: itsdangerous>=0.24 in /Users/LeandroJumilla/opt/anaconda3/lib/python3.7/site-packages (from flask>=0.10.1->blaze) (1.1.0)\n",
      "Requirement already satisfied: click>=5.1 in /Users/LeandroJumilla/opt/anaconda3/lib/python3.7/site-packages (from flask>=0.10.1->blaze) (7.0)\n",
      "Requirement already satisfied: Werkzeug>=0.15 in /Users/LeandroJumilla/opt/anaconda3/lib/python3.7/site-packages (from flask>=0.10.1->blaze) (1.0.0)\n",
      "Requirement already satisfied: Six in /Users/LeandroJumilla/opt/anaconda3/lib/python3.7/site-packages (from flask-cors->blaze) (1.14.0)\n",
      "Collecting datashape>=0.5.0\n",
      "  Downloading datashape-0.5.2.tar.gz (76 kB)\n",
      "\u001b[K     |████████████████████████████████| 76 kB 695 kB/s eta 0:00:01\n",
      "\u001b[?25hRequirement already satisfied: numpy>=1.7 in /Users/LeandroJumilla/opt/anaconda3/lib/python3.7/site-packages (from odo>=0.4.0->blaze) (1.18.1)\n",
      "Requirement already satisfied: pandas>=0.15.0 in /Users/LeandroJumilla/opt/anaconda3/lib/python3.7/site-packages (from odo>=0.4.0->blaze) (1.0.1)\n",
      "Requirement already satisfied: multipledispatch>=0.4.7 in /Users/LeandroJumilla/opt/anaconda3/lib/python3.7/site-packages (from odo>=0.4.0->blaze) (0.6.0)\n",
      "Requirement already satisfied: networkx in /Users/LeandroJumilla/opt/anaconda3/lib/python3.7/site-packages (from odo>=0.4.0->blaze) (2.4)\n",
      "Requirement already satisfied: MarkupSafe>=0.23 in /Users/LeandroJumilla/opt/anaconda3/lib/python3.7/site-packages (from Jinja2>=2.10.1->flask>=0.10.1->blaze) (1.1.1)\n",
      "Requirement already satisfied: python-dateutil in /Users/LeandroJumilla/opt/anaconda3/lib/python3.7/site-packages (from datashape>=0.5.0->odo>=0.4.0->blaze) (2.8.1)\n",
      "Requirement already satisfied: pytz>=2017.2 in /Users/LeandroJumilla/opt/anaconda3/lib/python3.7/site-packages (from pandas>=0.15.0->odo>=0.4.0->blaze) (2019.3)\n",
      "Requirement already satisfied: decorator>=4.3.0 in /Users/LeandroJumilla/opt/anaconda3/lib/python3.7/site-packages (from networkx->odo>=0.4.0->blaze) (4.4.1)\n",
      "Building wheels for collected packages: blaze, odo, datashape\n",
      "  Building wheel for blaze (setup.py) ... \u001b[?25ldone\n",
      "\u001b[?25h  Created wheel for blaze: filename=blaze-0.10.1-py3-none-any.whl size=469654 sha256=f105898014b6454f5d3833a58b73305a6cd2dabdc88a4030f43574f539c45fef\n",
      "  Stored in directory: /Users/LeandroJumilla/Library/Caches/pip/wheels/8e/ca/d2/3b27bcee56953466ede24d3afdbff3210605e88d0310594a1f\n",
      "  Building wheel for odo (setup.py) ... \u001b[?25ldone\n",
      "\u001b[?25h  Created wheel for odo: filename=odo-0.5.0-py3-none-any.whl size=128160 sha256=e338a2e0d393d383e02582df0de3eb5b2f2ef7bb7ddee037c0813cc998f62263\n",
      "  Stored in directory: /Users/LeandroJumilla/Library/Caches/pip/wheels/f7/cd/1b/2680973488dc6d9c2cbea6bc81a54a501d10cd6b20e9606721\n",
      "  Building wheel for datashape (setup.py) ... \u001b[?25ldone\n",
      "\u001b[?25h  Created wheel for datashape: filename=datashape-0.5.2-py3-none-any.whl size=59427 sha256=ab56e9d8dff6f3b51dd6ee96dea0b10d11d858954f84fedf16f0d6230e2c7be4\n",
      "  Stored in directory: /Users/LeandroJumilla/Library/Caches/pip/wheels/b5/b7/80/333a5c3312ed4cd54f5d5b869868c14e0c6002cb5c7238b52d\n",
      "Successfully built blaze odo datashape\n",
      "Installing collected packages: flask-cors, datashape, odo, blaze\n",
      "Successfully installed blaze-0.10.1 datashape-0.5.2 flask-cors-3.0.10 odo-0.5.0\n",
      "Note: you may need to restart the kernel to use updated packages.\n"
     ]
    }
   ],
   "source": [
    "pip install blaze"
   ]
  },
  {
   "cell_type": "code",
   "execution_count": 12,
   "metadata": {},
   "outputs": [],
   "source": [
    "import numpy as np\n",
    "import os\n",
    "import pandas as pd\n",
    "import itertools as IT"
   ]
  },
  {
   "cell_type": "code",
   "execution_count": 13,
   "metadata": {},
   "outputs": [],
   "source": [
    "def logic(row):\n",
    "    if row == 1228:\n",
    "       return True\n",
    "    return False\n",
    "#condition removes lines if index includes strings"
   ]
  },
  {
   "cell_type": "markdown",
   "metadata": {},
   "source": [
    "def valid(chunks):\n",
    "    for chunk in chunks:\n",
    "        mask = chunk['Peak Intensity'] = 0\n",
    "        if mask.all():\n",
    "            yield chunk\n",
    "        else:\n",
    "            yield chunk.loc[mask]\n",
    "            break\n",
    "\n",
    "chunksize = 10 ** 5\n",
    "chunks = pd.read_csv('msms_test.bsc', chunksize=chunksize, header=None)\n",
    "df = pd.concat(valid(chunks))"
   ]
  },
  {
   "cell_type": "code",
   "execution_count": 25,
   "metadata": {},
   "outputs": [
    {
     "name": "stdout",
     "output_type": "stream",
     "text": [
      "            m/z  Peak Intensity\n",
      "0      130.0479             0.0\n",
      "1      130.0479            24.0\n",
      "2      130.0492            76.0\n",
      "3      130.0505           134.0\n",
      "4      130.0518           194.0\n",
      "...         ...             ...\n",
      "1222  1482.7016          1012.0\n",
      "1223  1648.7731           877.0\n",
      "1224  1824.8826           360.0\n",
      "1225  1834.8597           400.0\n",
      "1226  1852.8675           473.0\n",
      "\n",
      "[1224 rows x 2 columns]\n"
     ]
    }
   ],
   "source": [
    "df = pd.read_csv('msms_test.bsc', skiprows = lambda x: logic(x))\n",
    "#reads file as csv using panda module, and skips rows using the conidtion above\n",
    "\n",
    "df.columns =['m/z', 'Peak Intensity']\n",
    "#names for columns\n",
    "\n",
    "df = df[df['Peak Intensity'] >= 0]\n",
    "#removes rows that do not have any column for peak intensity i.e. string titles (ParentMasses, MS Peak List) and the single Parent mass: 818.1604 as it does not have a value on peak intensity. \n",
    "#original number of rows = 1228 so confirms comment above while keeping 0.0 values for Peak Intensity\n",
    "\n",
    "print(df)"
   ]
  },
  {
   "cell_type": "markdown",
   "metadata": {},
   "source": [
    "chunksize = 10 ** 3\n",
    "chunks = pd.read_csv('msms_test.bsc', chunksize=chunksize, header=None)\n",
    "chunks = IT.takewhile(lambda chunk: chunk['Peak Intensity'].iloc[-1] < 10.0, chunks)\n",
    "df = pd.concat(chunks)\n",
    "mask = df['Peak Intensity'] < 10.0\n",
    "df = df.loc[mask]\n",
    "\n",
    "#chunking does not work as bsc is not a real csv file with column names assigned within the file, names assigned after once in panda."
   ]
  },
  {
   "cell_type": "code",
   "execution_count": null,
   "metadata": {},
   "outputs": [],
   "source": [
    "#skip rows in read_csv: https://thispointer.com/pandas-skip-rows-while-reading-csv-file-to-a-dataframe-using-read_csv-in-python/\n",
    "#https://datascientyst.com/read_csv-skip-rows-condition-values-pandas/"
   ]
  }
 ],
 "metadata": {
  "kernelspec": {
   "display_name": "Python 3",
   "language": "python",
   "name": "python3"
  },
  "language_info": {
   "codemirror_mode": {
    "name": "ipython",
    "version": 3
   },
   "file_extension": ".py",
   "mimetype": "text/x-python",
   "name": "python",
   "nbconvert_exporter": "python",
   "pygments_lexer": "ipython3",
   "version": "3.7.6"
  }
 },
 "nbformat": 4,
 "nbformat_minor": 4
}
