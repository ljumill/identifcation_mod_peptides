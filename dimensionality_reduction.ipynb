{
 "cells": [
  {
   "cell_type": "code",
   "execution_count": 35,
   "metadata": {},
   "outputs": [],
   "source": [
    "import numpy as np\n",
    "import pandas as pd\n",
    "from sklearn.manifold import TSNE\n",
    "import seaborn as sns\n",
    "import matplotlib.pyplot as plt\n",
    "from sklearn.preprocessing import StandardScaler\n",
    "from sklearn.decomposition import PCA\n",
    "from sklearn.pipeline import Pipeline\n",
    "from sklearn.ensemble import RandomForestClassifier\n",
    "from sklearn.model_selection import train_test_split "
   ]
  },
  {
   "cell_type": "code",
   "execution_count": 36,
   "metadata": {},
   "outputs": [],
   "source": [
    "#load processed training numpy array data and convert to pd dataframe\n",
    "load_data = np.load('all_train_data.npy', allow_pickle=True)\n",
    "df = pd.DataFrame(load_data)\n",
    "\n",
    "# Create feature and target arrays\n",
    "X = df.drop(101300, axis=1) \n",
    "y = df[101300].astype('int') #last column is the modified or not modified feature\n",
    "\n",
    "# Split into training and test set\n",
    "X_train, X_test, y_train, y_test = train_test_split(X, y, test_size = 0.4 , random_state=42)"
   ]
  },
  {
   "cell_type": "markdown",
   "metadata": {},
   "source": [
    "t-Distributed Stochastic Neighbor Embedding or t-SNE - a powerful technique to visualize high dimensional data using feature extraction.t-SNE will maximize the distance in two-dimensional space between observations that are most different in a high-dimensional space. Because of this, observations that are similar will be close to one another and may become clustered. t-SNE does not work with non-numeric data as such so need to remove any non numeric. \n",
    "\n",
    "While fitting to the dataset, t-SNE will try different configurations and evaluate these with an internal cost function. High learning rates will cause the algorithm to be more adventurous in the configurations it tries out while low learning rates will cause it to be conservative. Usually, learning rates fall in the 10 to 1000 range. "
   ]
  },
  {
   "cell_type": "code",
   "execution_count": 48,
   "metadata": {},
   "outputs": [
    {
     "data": {
      "image/png": "[encoded data removed]",
      "text/plain": [
       "<Figure size 432x288 with 1 Axes>"
      ]
     },
     "metadata": {
      "needs_background": "light"
     },
     "output_type": "display_data"
    }
   ],
   "source": [
    "#create a TSNE() model with learning rate 50\n",
    "m = TSNE(learning_rate=50)\n",
    "\n",
    "#fit and transform the TSNE model to our numeric dataset. \n",
    "#this will project our high-dimensional dataset onto a NumPy array with two dimensions.\n",
    "tsne_features = m.fit_transform(df)\n",
    "\n",
    "\n",
    "#assign these two dimensions back to our original dataset naming them 'x' and 'y'.\n",
    "df['x'] = tsne_features[:,0]\n",
    "df['y'] = tsne_features[:,1]\n",
    "\n",
    "#plot data using seaborn's .scatterplot() method on the x and y columns we just added.\n",
    "sns.scatterplot(x='x', y='y', data=df)\n",
    "plt.show()"
   ]
  },
  {
   "cell_type": "markdown",
   "metadata": {},
   "source": [
    "No real correlation or defined groups of data points are seen with tsne. This was somewhat expected since there are no distinct groups of peptide sepctrum shapes, instead, there is a more continuous distribution of spectrum shapes, and thus, one undefined cluster. \n",
    "\n",
    "Need to use categorical features (mod/unmod) we excluded from the analysis initially to check if there are interesting structural patterns within this cluster."
   ]
  },
  {
   "cell_type": "code",
   "execution_count": 49,
   "metadata": {},
   "outputs": [
    {
     "data": {
      "image/png": "[encoded data removed]",
      "text/plain": [
       "<Figure size 432x288 with 1 Axes>"
      ]
     },
     "metadata": {
      "needs_background": "light"
     },
     "output_type": "display_data"
    }
   ],
   "source": [
    "#rename column 101300 which contains the modified or unmodified feature to an appropriate title\n",
    "df = df.rename(columns={101300: 'Modified/Unmodified'})\n",
    "\n",
    "#use name for the hue, which is the colour to analyse clusters. \n",
    "sns.scatterplot(x='x', y='y', hue='Modified/Unmodified', data=df)\n",
    "plt.show()"
   ]
  },
  {
   "cell_type": "markdown",
   "metadata": {},
   "source": [
    "Thus t-SNE helped to visually explore our dataset and identify that there are defined clusters are present. \n",
    "\n",
    "Feature extraction is a good next step. Feature extraction is unlike feature selection where some features were simply dropped completely. It creates new features, which are in fact combinations of the original ones. There are powerful algorithms that will calculate the new features in a way that as much information as possible is preserved, but before we get into those, let's look at more simple feature extraction. \n",
    "\n",
    "While manual feature extraction is possible, due to the 101299 available features that we have a good enough understanding of each of these features to form new ones. It is only when you have good understanding of the features in your dataset you can sometimes combine multiple features into a new feature that makes the original ones obsolete. Furthermore, combining features by taking the average of multiple features comes with the cost of losing some information.\n",
    "\n",
    "Instead, we can start with principal component analysis. You can describe the information captured by two features by using two perpendicular vectors that are aligned with the variance in the data, or even describe points using multiplications of the vectors.\n",
    "\n",
    "For this technique it's important to scale the features first, so that their values are easier to compare. We do this with sklearn's StandardScaler(). \n"
   ]
  },
  {
   "cell_type": "code",
   "execution_count": 50,
   "metadata": {},
   "outputs": [
    {
     "data": {
      "image/png": "[encoded data removed]",
      "text/plain": [
       "<Figure size 432x288 with 1 Axes>"
      ]
     },
     "metadata": {
      "needs_background": "light"
     },
     "output_type": "display_data"
    }
   ],
   "source": [
    "#scale the values with the StandardScaler()\n",
    "scaler = StandardScaler()\n",
    "std_df = scaler.fit_transform(df)\n",
    "\n",
    "#can then create our PCA instance and apply the .fit_transform() method \n",
    "pca = PCA()\n",
    "pca_df = pca.fit_transform(std_df)\n",
    "\n",
    "#assign dimensions back to our pca dataset naming them 'x' and 'y', first two arrays (PC1 and PC2)\n",
    "df['PC 1'] = pca_df[0, :]\n",
    "df['PC 2'] = pca_df[1, :]\n",
    "\n",
    "#plot the first principal component against the second principal component\n",
    "sns.scatterplot(x='PC 1', y='PC 2', data=df)\n",
    "plt.show()"
   ]
  },
  {
   "cell_type": "code",
   "execution_count": 40,
   "metadata": {},
   "outputs": [
    {
     "data": {
      "text/plain": [
       "array([[ 5.30008878e+02, -1.45375491e+01, -7.73777159e-01, ...,\n",
       "        -6.54751191e-20,  2.32725671e-31, -1.02333041e-17],\n",
       "       [-1.38727736e+01, -8.76980460e+00, -4.88516005e+00, ...,\n",
       "        -6.54751191e-20,  3.47904605e-31, -1.02333041e-17],\n",
       "       [-1.04576636e+01, -8.09370847e+00, -8.12368703e+00, ...,\n",
       "        -6.54751191e-20,  1.98675211e-31, -1.02333041e-17],\n",
       "       ...,\n",
       "       [-1.49419206e+01, -1.05175947e+01,  4.88909302e-01, ...,\n",
       "        -6.54751191e-20,  1.83990568e-31, -1.02333041e-17],\n",
       "       [-1.61951523e+01, -1.12575835e+01, -9.81834569e+00, ...,\n",
       "         5.55468057e-18,  3.79483433e-14, -4.96709994e-15],\n",
       "       [-1.61950275e+01, -1.12577301e+01, -9.81809340e+00, ...,\n",
       "        -1.83310308e-17, -4.17200218e-30,  7.36027874e-15]])"
      ]
     },
     "execution_count": 40,
     "metadata": {},
     "output_type": "execute_result"
    }
   ],
   "source": [
    "pca_df"
   ]
  },
  {
   "cell_type": "markdown",
   "metadata": {},
   "source": [
    "When we plot these values for all points in the dataset, our resulting point cluster no longer shows any correlation and therefore, no more duplicate information. If we would add a third feature to the original dataset we would also have to add a third principal component if we don't want to lose any information - this remains true as you keep adding features. You could describe a 100 feature dataset with 100 principal components. However this is unlikely as the components are much harder to understand than the original features.\n",
    "\n",
    "The components share no duplicate information and they are ranked from most to least important. We can access the explained variance ratio of each principal component after fitting the algorithm to the data using the .explained_variance_ratio_ attribute. \n"
   ]
  },
  {
   "cell_type": "code",
   "execution_count": 15,
   "metadata": {},
   "outputs": [
    {
     "name": "stdout",
     "output_type": "stream",
     "text": [
      "[2.72209880e-01 1.28399666e-01 5.98913579e-02 5.58522546e-02\n",
      " 4.99590985e-02 4.43832559e-02 4.39355200e-02 3.88955135e-02\n",
      " 3.38573592e-02 3.16182115e-02 2.99630139e-02 2.72135538e-02\n",
      " 2.60353255e-02 2.35136163e-02 1.98921685e-02 1.76819680e-02\n",
      " 1.58128852e-02 1.46729594e-02 1.37958373e-02 1.26976107e-02\n",
      " 1.05206739e-02 9.46704668e-03 6.11829830e-03 3.64533355e-03\n",
      " 3.13996476e-03 2.99078692e-03 2.78369559e-03 1.05314168e-03\n",
      " 3.12275052e-09 2.17742636e-17 4.52079948e-30 2.71629191e-31\n",
      " 3.89469536e-32 2.71635461e-33 2.71635461e-33 2.71635461e-33\n",
      " 2.71635461e-33 2.71635461e-33 2.71635461e-33 2.71635461e-33\n",
      " 6.41287724e-34]\n"
     ]
    }
   ],
   "source": [
    "#Inspect the explained variance ratio per component\n",
    "print(pca.explained_variance_ratio_)"
   ]
  },
  {
   "cell_type": "markdown",
   "metadata": {},
   "source": [
    "In this case it tells us that the first components explains 27.2% of the variance in the data and the second the remaining 12.8%. When you are dealing with a dataset with a lot of correlation the explained variance typically becomes concentrated in the first few components. The remaining components then explain so little variance that they can be dropped. This is why PCA is so powerful for dimensionality reduction."
   ]
  },
  {
   "cell_type": "code",
   "execution_count": 16,
   "metadata": {},
   "outputs": [
    {
     "name": "stdout",
     "output_type": "stream",
     "text": [
      "[0.27220988 0.40060955 0.4605009  0.51635316 0.56631226 0.61069551\n",
      " 0.65463103 0.69352655 0.72738391 0.75900212 0.78896513 0.81617868\n",
      " 0.84221401 0.86572763 0.88561979 0.90330176 0.91911465 0.93378761\n",
      " 0.94758344 0.96028106 0.97080173 0.98026878 0.98638707 0.99003241\n",
      " 0.99317237 0.99616316 0.99894686 1.         1.         1.\n",
      " 1.         1.         1.         1.         1.         1.\n",
      " 1.         1.         1.         1.         1.        ]\n"
     ]
    }
   ],
   "source": [
    "#Cumulative sum of the explained variance ratio\n",
    "#see how much variance we can explain in total by using a certain number of components\n",
    "print(pca.explained_variance_ratio_.cumsum())"
   ]
  },
  {
   "cell_type": "markdown",
   "metadata": {},
   "source": [
    "In other words, using just the first two components would still allow us to keep 40% of the variance in the data whereas we would have to use 12 components if we would want to keep 80% of the variance.\n",
    "\n",
    "The lowest number of principal components to keep to avoid losing more than 10% of explained variance during dimensionality reduction is 16. \n",
    "\n",
    "Using PCA for dimensionality reduction allows you to decide how much of the explained variance you're willing to sacrifice. However, one downside of PCA is that the remaining components can be hard to interpret.\n",
    "\n",
    "To improve understanding of the components it can help to look at the .components_ attribute. This tells us to what extent each component's vector is affected by a particular feature. The features that have the biggest positive or negative effects on a component can then be used to add a meaning to that component."
   ]
  },
  {
   "cell_type": "code",
   "execution_count": 17,
   "metadata": {},
   "outputs": [
    {
     "name": "stdout",
     "output_type": "stream",
     "text": [
      "[[-5.09162701e-16  6.09940583e-17 -1.56757005e-03 ... -1.85419296e-03\n",
      "   2.61053558e-03  4.23247501e-03]\n",
      " [-8.80830881e-16  1.26092894e-16 -2.31010242e-03 ... -2.80555711e-03\n",
      "   4.97686742e-03 -4.01717222e-03]\n",
      " [-1.36467657e-16 -1.81827439e-16 -4.31932975e-03 ...  5.49313013e-03\n",
      "   1.50922637e-03  8.10769597e-03]\n",
      " [-8.72765593e-16  6.62792610e-16 -5.28777952e-03 ... -5.05348355e-03\n",
      "   4.47920197e-03  6.38973304e-03]]\n"
     ]
    },
    {
     "data": {
      "text/plain": [
       "(41, 101303)"
      ]
     },
     "execution_count": 17,
     "metadata": {},
     "output_type": "execute_result"
    }
   ],
   "source": [
    "#shows first 4 rows of pca components \n",
    "pca_comp = pca.components_\n",
    "print(pca_comp[0:4,])\n",
    "pca_comp.shape"
   ]
  },
  {
   "cell_type": "markdown",
   "metadata": {},
   "source": [
    "Original data consisted of x-axis as binned intensities as cross a mass range, and y-axis as modified or unmodified. \n",
    "\n",
    "Each array can be thought of as a principal component (PC). As can be seen the first two columns of each array, the feature has very litte meaning to that component. Thus, these are likely to be 0 intensity values. \n",
    "\n",
    "Always scale the data before applying PCA thus able to combine both operations in a pipeline. We pass the two operations to the Pipeline() class in the form of two tuples inside a list. Within each tuple we give our operation a name, 'scaler' and 'reducer'. "
   ]
  },
  {
   "cell_type": "code",
   "execution_count": 7,
   "metadata": {},
   "outputs": [
    {
     "name": "stdout",
     "output_type": "stream",
     "text": [
      "[[530.04673074 -14.52916934]\n",
      " [-13.88185807  -8.76865468]\n",
      " [-10.46756628  -8.08664378]\n",
      " [-12.51398314  -7.21360264]\n",
      " [ -8.60207551  -6.43955727]\n",
      " [-13.27283908  -8.590311  ]\n",
      " [-11.02056515  -7.36681958]\n",
      " [-12.92050611  -5.82466907]\n",
      " [-14.33586272  -8.22096998]\n",
      " [-14.40565829  -8.62347343]\n",
      " [-14.3001742   -8.49643798]\n",
      " [-12.68385538  -7.49464602]\n",
      " [-13.30719883  -7.23700001]\n",
      " [-13.63047141  -7.74669173]\n",
      " [-13.95057014  -7.86978676]\n",
      " [-13.00281108  -6.0137779 ]\n",
      " [-12.56704844  -3.29200705]\n",
      " [-14.38328945  -8.46388939]\n",
      " [-13.93250462  -8.40071896]\n",
      " [ -4.00640685  -5.08349476]\n",
      " [ -9.94684182  -7.43746243]\n",
      " [-12.7277336   -7.12246825]\n",
      " [  7.48020438 364.16897851]\n",
      " [-13.99616813  -7.69781758]\n",
      " [-16.19122248 -11.2672784 ]\n",
      " [-11.26760941  -7.46836272]\n",
      " [-16.18635524 -11.28174644]\n",
      " [-16.19025961 -11.26904039]\n",
      " [-16.19214241 -11.26428232]\n",
      " [-16.19214241 -11.26428229]\n",
      " [-14.62069457 -12.21289936]\n",
      " [-16.19214241 -11.26428229]\n",
      " [-16.19146234 -11.26512631]\n",
      " [-16.19146233 -11.26512632]\n",
      " [-16.19192742 -11.26454901]\n",
      " [-16.19214242 -11.26428228]\n",
      " [-16.19146234 -11.26512631]\n",
      " [-12.34467928 -11.4968008 ]\n",
      " [-14.95231743 -10.50547111]\n",
      " [-16.19146237 -11.26512625]\n",
      " [-16.19146233 -11.26512632]]\n"
     ]
    }
   ],
   "source": [
    "#create pipeline\n",
    "pipe = Pipeline([('scaler', StandardScaler()), \n",
    "                ('reducer', PCA(n_components=16))])\n",
    "\n",
    "pc = pipe.fit_transform(df)\n",
    "\n",
    "print(pc[:,:2])"
   ]
  },
  {
   "cell_type": "code",
   "execution_count": 28,
   "metadata": {},
   "outputs": [
    {
     "data": {
      "text/plain": [
       "<matplotlib.axes._subplots.AxesSubplot at 0x7fcdff376e10>"
      ]
     },
     "execution_count": 28,
     "metadata": {},
     "output_type": "execute_result"
    },
    {
     "data": {
      "image/png": "[encoded data removed]",
      "text/plain": [
       "<Figure size 432x288 with 1 Axes>"
      ]
     },
     "metadata": {
      "needs_background": "light"
     },
     "output_type": "display_data"
    }
   ],
   "source": [
    "#create pipeline\n",
    "pipe = Pipeline([('scaler', StandardScaler()), \n",
    "                ('reducer', PCA(n_components=16))])\n",
    "\n",
    "#fit and transform onto our df\n",
    "pc = pipe.fit_transform(df)\n",
    "\n",
    "#extract the only categorial data we have: modified/unmodified feature. \n",
    "mod_category = df['Modified/Unmodified']\n",
    "mod_category = pd.Series(mod_category)\n",
    "\n",
    "#replace 0 and 1 with modified and unmodified titles \n",
    "mod_category = mod_category.replace({0: 'Unmodified'})\n",
    "mod_category = mod_category.replace({1: 'Modified'})\n",
    "\n",
    "#add the first two principal components to our dataframe and plot them\n",
    "mod_category['PC 1'] = pc[:, 0]\n",
    "mod_category['PC 2'] = pc[:, 1]\n",
    "\n",
    "sns.scatterplot(data=mod_category, x='PC 1', y='PC 2', alpha=0.4)"
   ]
  },
  {
   "cell_type": "markdown",
   "metadata": {},
   "source": [
    "Since our data only has one categorical feature. Usually, PCA is not the preferred algorithm to reduce the dimensionality of categorical datasets but we can check whether they align with the most important sources of variance in the data. However, this attempt seems to be unsuccessful as it provides vague cluster indication. "
   ]
  },
  {
   "cell_type": "markdown",
   "metadata": {},
   "source": [
    "To go beyond data exploration, we can add a model to the pipeline. We can add a random forest classifier and will predict gender on the 101300 numeric features of the dataset. I've told the PCA class to only calculate 3 components with the n_components parameter. Once the pipeline is fit to the training data we can access the steps within by indexing over the .steps attribute. PCA is the second step and therefore has index one. This returns a tuple with the name of the step first and actual algorithm second.\n",
    "\n",
    "Using the .explained_variance_ratio_ attribute and taking its cumulative sum we see that these three components, only, explain 6.6% of the variance in the dataset. However, when we check the accuracy on the test set we get 88.2%"
   ]
  },
  {
   "cell_type": "code",
   "execution_count": 37,
   "metadata": {},
   "outputs": [
    {
     "name": "stdout",
     "output_type": "stream",
     "text": [
      "[0.38292233 0.18447505 0.06563345]\n",
      "88.2% test set accuracy\n"
     ]
    }
   ],
   "source": [
    "#build the pipeline\n",
    "pipe = Pipeline([\n",
    "        ('scaler', StandardScaler()),\n",
    "        ('reducer', PCA(n_components=3)),\n",
    "        ('classifier', RandomForestClassifier(random_state=0))])\n",
    "\n",
    "#fit the pipeline to the training data\n",
    "pipe.fit(X_train, y_train)\n",
    "\n",
    "#score the accuracy on the test set\n",
    "accuracy = pipe.score(X_test, y_test)\n",
    "\n",
    "#prints the explained variance ratio and accuracy\n",
    "print(pipe.steps[1][1].explained_variance_ratio_)\n",
    "print('{0:.1%} test set accuracy'.format(accuracy))"
   ]
  },
  {
   "cell_type": "code",
   "execution_count": 38,
   "metadata": {},
   "outputs": [
    {
     "name": "stdout",
     "output_type": "stream",
     "text": [
      "16 components selected\n"
     ]
    }
   ],
   "source": [
    "#let PCA select 90% of the variance\n",
    "pipe = Pipeline([('scaler', StandardScaler()),\n",
    "                 ('reducer', PCA(n_components=0.9))])\n",
    "\n",
    "#fit the pipe to the data\n",
    "pipe.fit(df)\n",
    "\n",
    "print('{} components selected'.format(len(pipe.steps[1][1].components_)))"
   ]
  },
  {
   "cell_type": "markdown",
   "metadata": {},
   "source": [
    "16 components was confirmed by our analysis using pca.explained_variance_ratio_.cumsum() previously."
   ]
  },
  {
   "cell_type": "code",
   "execution_count": 47,
   "metadata": {},
   "outputs": [
    {
     "data": {
      "image/png": "[encoded data removed]",
      "text/plain": [
       "<Figure size 432x288 with 1 Axes>"
      ]
     },
     "metadata": {
      "needs_background": "light"
     },
     "output_type": "display_data"
    }
   ],
   "source": [
    "#pipeline a scaler and pca selecting 10 components\n",
    "pipe = Pipeline([('scaler', StandardScaler()),\n",
    "                 ('reducer', PCA(n_components=10))])\n",
    "\n",
    "#fit the pipe to the data\n",
    "pipe.fit(df)\n",
    "\n",
    "#plotting the explained variance ratio\n",
    "plt.plot(pipe.steps[1][1].explained_variance_ratio_)\n",
    "\n",
    "plt.xlabel('Principal component index')\n",
    "plt.ylabel('Explained variance ratio')\n",
    "plt.show()"
   ]
  },
  {
   "cell_type": "markdown",
   "metadata": {},
   "source": [
    "Component index so n+1 i.e the 2 is where the dip occurs so 3 components reduces the dataset without compromising too much on explained variance. "
   ]
  }
 ],
 "metadata": {
  "kernelspec": {
   "display_name": "Python 3",
   "language": "python",
   "name": "python3"
  },
  "language_info": {
   "codemirror_mode": {
    "name": "ipython",
    "version": 3
   },
   "file_extension": ".py",
   "mimetype": "text/x-python",
   "name": "python",
   "nbconvert_exporter": "python",
   "pygments_lexer": "ipython3",
   "version": "3.7.6"
  }
 },
 "nbformat": 4,
 "nbformat_minor": 4
}
