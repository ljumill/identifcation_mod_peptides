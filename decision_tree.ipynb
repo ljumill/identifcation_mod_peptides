{
 "cells": [
  {
   "cell_type": "markdown",
   "metadata": {},
   "source": [
    "# Decision Trees"
   ]
  },
  {
   "cell_type": "code",
   "execution_count": 2,
   "metadata": {},
   "outputs": [],
   "source": [
    "# Import necessary modules\n",
    "from sklearn.tree import DecisionTreeClassifier\n",
    "from sklearn.model_selection import RandomizedSearchCV, GridSearchCV\n",
    "import numpy as np\n",
    "import pandas as pd\n",
    "import os\n",
    "from sklearn.model_selection import train_test_split \n",
    "from sklearn.metrics import classification_report\n",
    "from sklearn.metrics import confusion_matrix \n",
    "from sklearn.preprocessing import StandardScaler\n",
    "from sklearn.pipeline import Pipeline\n",
    "from scipy.stats import randint"
   ]
  },
  {
   "cell_type": "code",
   "execution_count": 3,
   "metadata": {},
   "outputs": [],
   "source": [
    "#insert the desired path containing combined data files\n",
    "path = os.path.expanduser(r\"~/Documents/python/identification_modified_proteins/scripts/\")\n",
    "\n",
    "#changes current working directory to the path given \n",
    "directory = os.chdir(path)\n",
    "\n",
    "#load data \n",
    "load_data = np.load('all_train_data.npy', allow_pickle=True)\n",
    "inten_df = pd.DataFrame(load_data)\n",
    "\n",
    "# Create feature and target arrays\n",
    "X = inten_df.drop(101300, axis=1) \n",
    "y = inten_df[101300].astype('int') #last column is the modified or not modified feature"
   ]
  },
  {
   "cell_type": "code",
   "execution_count": 7,
   "metadata": {},
   "outputs": [
    {
     "name": "stdout",
     "output_type": "stream",
     "text": [
      "0.9411764705882353\n"
     ]
    }
   ],
   "source": [
    "#split into training and test set\n",
    "X_train, X_test, y_train, y_test = train_test_split(X, y, test_size = 0.4 , random_state=42)\n",
    "\n",
    "# Instantiate a Decision Tree classifier: tree\n",
    "tree = DecisionTreeClassifier()\n",
    "\n",
    "# Fit the classifier to the training data\n",
    "tree.fit(X_train, y_train)\n",
    "\n",
    "# Print the accuracy\n",
    "print(tree.score(X_test, y_test))"
   ]
  },
  {
   "cell_type": "code",
   "execution_count": 27,
   "metadata": {},
   "outputs": [
    {
     "name": "stdout",
     "output_type": "stream",
     "text": [
      "Test set predictions: [1 0 0 1 0 1 0 1 1 0 1 0 0 0 1 1 0]\n",
      "Test set accuracy: 0.94\n"
     ]
    }
   ],
   "source": [
    "print(\"Test set predictions: {}\".format(tree.predict(X_test)))\n",
    "print(\"Test set accuracy: {:.2f}\".format(tree.score(X_test, y_test)))"
   ]
  },
  {
   "cell_type": "code",
   "execution_count": 26,
   "metadata": {},
   "outputs": [
    {
     "name": "stdout",
     "output_type": "stream",
     "text": [
      "                                              Details\n",
      "Machine Learning Classification Method  Desicion Tree\n",
      "Train Accuracy                                      1\n",
      "Test Accuracy                                0.941176\n"
     ]
    }
   ],
   "source": [
    "#fit classifier\n",
    "tree.fit(X_train, y_train)\n",
    "\n",
    "#predict using the X_test data\n",
    "y_pred_rf = tree.predict(X_test)\n",
    "\n",
    "#build dataframe to house the scores.\n",
    "df = pd.DataFrame()\n",
    "\n",
    "#name columns\n",
    "cols = ['Machine Learning Classification Method',\n",
    "        'Train Accuracy', \n",
    "        'Test Accuracy']\n",
    "\n",
    "#name required cells \n",
    "df.loc['Machine Learning Classification Method', \n",
    "       'Details'] = 'Desicion Tree'\n",
    "\n",
    "#fit classifier onto both datasets to compare \n",
    "df.loc['Train Accuracy', 'Details'] = tree.score(X_train, y_train) \n",
    "df.loc['Test Accuracy', 'Details'] = tree.score(X_test, y_test)\n",
    "print(df)"
   ]
  },
  {
   "cell_type": "code",
   "execution_count": 25,
   "metadata": {},
   "outputs": [
    {
     "name": "stdout",
     "output_type": "stream",
     "text": [
      "Tuned Decision Tree Parameters: {'criterion': 'gini', 'max_depth': None, 'max_features': 38258, 'min_samples_leaf': 57385}\n",
      "Best score is 0.586111111111111\n"
     ]
    }
   ],
   "source": [
    "# Setup the parameters and distributions to sample from: param_dist\n",
    "param_dist = {\"max_depth\": [3, None],\n",
    "              \"max_features\": randint(1, 101300),\n",
    "              \"min_samples_leaf\": randint(1, 101300),\n",
    "              \"criterion\": [\"gini\", \"entropy\"]}\n",
    "\n",
    "# Instantiate a Decision Tree classifier: tree\n",
    "tree = DecisionTreeClassifier()\n",
    "\n",
    "# Instantiate the RandomizedSearchCV object: tree_cv\n",
    "tree_cv = RandomizedSearchCV(tree, param_dist, cv=5)\n",
    "\n",
    "# Fit it to the data\n",
    "tree_cv.fit(X, y)\n",
    "\n",
    "# Print the tuned parameters and score\n",
    "print(\"Tuned Decision Tree Parameters: {}\".format(tree_cv.best_params_))\n",
    "print(\"Best score is {}\".format(tree_cv.best_score_))"
   ]
  },
  {
   "cell_type": "markdown",
   "metadata": {},
   "source": [
    "Results from various attempts of randomizedsearch CV below:\n",
    "\n",
    "Using {\"max_depth\": [3, None],\n",
    "              \"max_features\": randint(1, 9),\n",
    "              \"min_samples_leaf\": randint(1, 9),\n",
    "              \"criterion\": [\"gini\", \"entropy\"]}\n",
    "Tuned Decision Tree Parameters: {'criterion': 'gini', 'max_depth': None, 'max_features': 3, 'min_samples_leaf': 1}\n",
    "Best score is 0.9277777777777778\n",
    "\n",
    "Using  {\"max_depth\": [3, None],\n",
    "              \"max_features\": randint(1, 101300),\n",
    "              \"min_samples_leaf\": randint(1, 101300),\n",
    "              \"criterion\": [\"gini\", \"entropy\"]}\n",
    "Tuned Decision Tree Parameters: {'criterion': 'entropy', 'max_depth': 3, 'max_features': 20255, 'min_samples_leaf': 14410}\n",
    "Best score is 0.586111111111111"
   ]
  },
  {
   "cell_type": "markdown",
   "metadata": {},
   "source": [
    "Confusion matrix to evaluate model. "
   ]
  },
  {
   "cell_type": "code",
   "execution_count": 12,
   "metadata": {},
   "outputs": [
    {
     "name": "stdout",
     "output_type": "stream",
     "text": [
      "[[10  0]\n",
      " [ 1  6]]\n",
      "              precision    recall  f1-score   support\n",
      "\n",
      "           0       0.91      1.00      0.95        10\n",
      "           1       1.00      0.86      0.92         7\n",
      "\n",
      "    accuracy                           0.94        17\n",
      "   macro avg       0.95      0.93      0.94        17\n",
      "weighted avg       0.95      0.94      0.94        17\n",
      "\n"
     ]
    }
   ],
   "source": [
    "#fit the classifier to the training data\n",
    "tree.fit(X_train, y_train)\n",
    "\n",
    "# Predict the labels of the test data: y_pred\n",
    "y_pred = tree.predict(X_test)\n",
    "\n",
    "# Generate the confusion matrix and classification report\n",
    "print(confusion_matrix(y_test, y_pred))\n",
    "print(classification_report(y_test, y_pred))"
   ]
  },
  {
   "cell_type": "markdown",
   "metadata": {},
   "source": [
    "Reviewed the affect of scaling."
   ]
  },
  {
   "cell_type": "code",
   "execution_count": 17,
   "metadata": {},
   "outputs": [
    {
     "name": "stdout",
     "output_type": "stream",
     "text": [
      "Accuracy with Scaling: 0.9411764705882353\n",
      "Accuracy without Scaling: 0.9411764705882353\n"
     ]
    }
   ],
   "source": [
    "# Setup the pipeline steps: steps\n",
    "steps = [('scaler', StandardScaler()),\n",
    "        ('knn', DecisionTreeClassifier())]\n",
    "        \n",
    "# Create the pipeline: pipeline\n",
    "pipeline = Pipeline(steps)\n",
    "\n",
    "# Fit the pipeline to the training set: knn_scaled\n",
    "tree_scaled = pipeline.fit(X_train, y_train)\n",
    "\n",
    "# Instantiate and fit a k-NN classifier to the unscaled data\n",
    "tree_unscaled = tree.fit(X_train, y_train)\n",
    "\n",
    "# Compute and print metrics\n",
    "print('Accuracy with Scaling: {}'.format(tree_scaled.score(X_test, y_test)))\n",
    "print('Accuracy without Scaling: {}'.format(tree_unscaled.score(X_test, y_test)))"
   ]
  },
  {
   "cell_type": "markdown",
   "metadata": {},
   "source": [
    "Scaling has no affect on the accuracy"
   ]
  },
  {
   "cell_type": "markdown",
   "metadata": {},
   "source": [
    "## PCA \n",
    "Note we start with 16 principal components as this is what was first identified without a classifier that was the minimum number of components to meet the target of only 10% explained variance loss."
   ]
  },
  {
   "cell_type": "code",
   "execution_count": 5,
   "metadata": {},
   "outputs": [],
   "source": [
    "from sklearn.decomposition import PCA\n",
    "import matplotlib.pyplot as plt"
   ]
  },
  {
   "cell_type": "code",
   "execution_count": 20,
   "metadata": {},
   "outputs": [
    {
     "name": "stdout",
     "output_type": "stream",
     "text": [
      "[0.38292233 0.18447505 0.06563357 0.06000496 0.04557259 0.03904013\n",
      " 0.03684829 0.03620122 0.02944592 0.02576071 0.02346922 0.02139708\n",
      " 0.01971206 0.01481332 0.00799426 0.00485559]\n",
      "88.2% test set accuracy\n"
     ]
    }
   ],
   "source": [
    "#build the pipeline\n",
    "pipe = Pipeline([\n",
    "        ('scaler', StandardScaler()),\n",
    "        ('reducer', PCA(n_components=16)),\n",
    "        ('classifier', DecisionTreeClassifier())])\n",
    "\n",
    "#fit the pipeline to the training data\n",
    "pipe.fit(X_train, y_train)\n",
    "\n",
    "#score the accuracy on the test set\n",
    "accuracy = pipe.score(X_test, y_test)\n",
    "\n",
    "#prints the explained variance ratio and accuracy\n",
    "print(pipe.steps[1][1].explained_variance_ratio_)\n",
    "print('{0:.1%} test set accuracy'.format(accuracy))"
   ]
  },
  {
   "cell_type": "code",
   "execution_count": 13,
   "metadata": {},
   "outputs": [
    {
     "data": {
      "image/png": "[encoded data removed]",
      "text/plain": [
       "<Figure size 432x288 with 1 Axes>"
      ]
     },
     "metadata": {
      "needs_background": "light"
     },
     "output_type": "display_data"
    }
   ],
   "source": [
    "# Setup arrays to store train and test accuracies\n",
    "n_components = np.arange(1, 24)\n",
    "train_accuracy = np.empty(len(n_components))\n",
    "test_accuracy = np.empty(len(n_components))\n",
    "\n",
    "# Loop over different values of k\n",
    "for i, k in enumerate(n_components):\n",
    "    \n",
    "    #setup a pipeline with a k-NN Classifier with k neighbors: knn\n",
    "    pipe = Pipeline([\n",
    "        ('scaler', StandardScaler()),\n",
    "        ('reducer', PCA(n_components=k)),\n",
    "        ('classifier', DecisionTreeClassifier())])\n",
    "\n",
    "    #fit the pipeline to to the training data\n",
    "    pipe.fit(X_train, y_train)\n",
    "    \n",
    "    #Compute accuracy on the training set\n",
    "    train_accuracy[i] = pipe.score(X_train, y_train)\n",
    "\n",
    "    #Compute accuracy on the testing set\n",
    "    test_accuracy[i] = pipe.score(X_test, y_test)\n",
    "\n",
    "# Generate plot\n",
    "plt.title('Decision Tree: Varying Number of Principle Components')\n",
    "plt.plot(n_components, test_accuracy, label = 'Testing Accuracy')\n",
    "plt.plot(n_components, train_accuracy, label = 'Training Accuracy')\n",
    "plt.legend()\n",
    "plt.xlabel('Number of Principal Components')\n",
    "plt.ylabel('Accuracy')\n",
    "plt.show()"
   ]
  },
  {
   "cell_type": "code",
   "execution_count": null,
   "metadata": {},
   "outputs": [],
   "source": []
  }
 ],
 "metadata": {
  "kernelspec": {
   "display_name": "Python 3",
   "language": "python",
   "name": "python3"
  },
  "language_info": {
   "codemirror_mode": {
    "name": "ipython",
    "version": 3
   },
   "file_extension": ".py",
   "mimetype": "text/x-python",
   "name": "python",
   "nbconvert_exporter": "python",
   "pygments_lexer": "ipython3",
   "version": "3.7.6"
  }
 },
 "nbformat": 4,
 "nbformat_minor": 4
}
